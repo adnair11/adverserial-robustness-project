{
  "cells": [
    {
      "cell_type": "code",
      "execution_count": null,
      "metadata": {
        "colab": {
          "base_uri": "https://localhost:8080/",
          "height": 39,
          "resources": {
            "http://localhost:8080/nbextensions/google.colab/files.js": {
              "data": "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",
              "headers": [
                [
                  "content-type",
                  "application/javascript"
                ]
              ],
              "ok": true,
              "status": 200,
              "status_text": ""
            }
          }
        },
        "id": "37XjyPc_jAQw",
        "outputId": "73f0d4e1-d867-4053-d185-896c3e763c38"
      },
      "outputs": [
        {
          "data": {
            "text/html": [
              "\n",
              "     <input type=\"file\" id=\"files-58d62259-275c-4f27-8c73-e9bc0a178e6f\" name=\"files[]\" multiple disabled\n",
              "        style=\"border:none\" />\n",
              "     <output id=\"result-58d62259-275c-4f27-8c73-e9bc0a178e6f\">\n",
              "      Upload widget is only available when the cell has been executed in the\n",
              "      current browser session. Please rerun this cell to enable.\n",
              "      </output>\n",
              "      <script src=\"/nbextensions/google.colab/files.js\"></script> "
            ],
            "text/plain": [
              "<IPython.core.display.HTML object>"
            ]
          },
          "metadata": {},
          "output_type": "display_data"
        }
      ],
      "source": [
        "#upload model file model.py\n",
        "from google.colab import files\n",
        "uploaded = files.upload()"
      ]
    },
    {
      "cell_type": "code",
      "execution_count": 31,
      "metadata": {
        "colab": {
          "base_uri": "https://localhost:8080/"
        },
        "id": "uEUtOTmum2uz",
        "outputId": "8df289ea-a81f-4f34-b051-1d0adb20880d"
      },
      "outputs": [
        {
          "output_type": "stream",
          "name": "stdout",
          "text": [
            "Looking in indexes: https://pypi.org/simple, https://us-python.pkg.dev/colab-wheels/public/simple/\n",
            "Requirement already satisfied: torchattacks in /usr/local/lib/python3.7/dist-packages (3.2.7)\n",
            "Looking in indexes: https://pypi.org/simple, https://us-python.pkg.dev/colab-wheels/public/simple/\n",
            "Requirement already satisfied: torch==1.7.1 in /usr/local/lib/python3.7/dist-packages (1.7.1)\n",
            "Requirement already satisfied: torchvision==0.8.2 in /usr/local/lib/python3.7/dist-packages (0.8.2)\n",
            "Requirement already satisfied: typing-extensions in /usr/local/lib/python3.7/dist-packages (from torch==1.7.1) (4.1.1)\n",
            "Requirement already satisfied: numpy in /usr/local/lib/python3.7/dist-packages (from torch==1.7.1) (1.21.6)\n",
            "Requirement already satisfied: pillow>=4.1.1 in /usr/local/lib/python3.7/dist-packages (from torchvision==0.8.2) (7.1.2)\n",
            "Looking in indexes: https://pypi.org/simple, https://us-python.pkg.dev/colab-wheels/public/simple/\n",
            "Requirement already satisfied: torch-dct in /usr/local/lib/python3.7/dist-packages (0.1.5)\n",
            "Requirement already satisfied: torch>=0.4.1 in /usr/local/lib/python3.7/dist-packages (from torch-dct) (1.7.1)\n",
            "Requirement already satisfied: typing-extensions in /usr/local/lib/python3.7/dist-packages (from torch>=0.4.1->torch-dct) (4.1.1)\n",
            "Requirement already satisfied: numpy in /usr/local/lib/python3.7/dist-packages (from torch>=0.4.1->torch-dct) (1.21.6)\n"
          ]
        }
      ],
      "source": [
        "#installing all dependencies\n",
        "!pip install torchattacks\n",
        "!pip install torch==1.7.1 torchvision==0.8.2 \n",
        "!pip install torch-dct"
      ]
    },
    {
      "cell_type": "code",
      "execution_count": 32,
      "metadata": {
        "id": "qygXO943nDkT"
      },
      "outputs": [],
      "source": [
        "#importing all necessary libraries\n",
        "import torch_dct as dct\n",
        "import matplotlib.pyplot as plt\n",
        "import os\n",
        "import sys\n",
        "import numpy as np\n",
        "import pandas as pd\n",
        "import matplotlib.pyplot as plt\n",
        "%matplotlib inline\n",
        "\n",
        "import torch\n",
        "import torch.nn as nn\n",
        "import torch.optim as optim\n",
        "\n",
        "import torchvision.utils\n",
        "from torchvision import models\n",
        "import torchvision.datasets as dsets\n",
        "import torchvision.transforms as transforms\n",
        "\n",
        "import torchattacks\n",
        "from torchattacks import PGD, FGSM, FFGSM\n",
        "from pgd_dct import PGD_DCT\n",
        "from ffgsm_dct import FFGSM_DCT\n",
        "\n",
        "from models import CNN\n",
        "import random"
      ]
    },
    {
      "cell_type": "code",
      "execution_count": 33,
      "metadata": {
        "id": "nU1iUYU_oJ8S"
      },
      "outputs": [],
      "source": [
        "#Downloading Fashion MNIST Dataset\n",
        "train_list_transforms = transforms.Compose([\n",
        "        transforms.RandomHorizontalFlip(),\n",
        "        transforms.ToTensor(),\n",
        "        transforms.Normalize((0.1307,), (0.3081,)),\n",
        "    ])\n",
        "\n",
        "transform = transforms.Compose([transforms.ToTensor(),transforms.Normalize((0.5,),(0.5,),)])\n",
        "\n",
        "fashion_mnist_train = dsets.FashionMNIST(root='./data1/',\n",
        "                          train=True,\n",
        "                          transform=train_list_transforms,\n",
        "                          download=True)\n",
        "\n",
        "fashion_mnist_test = dsets.FashionMNIST(root='./data1/',\n",
        "                         train=False,\n",
        "                         transform=train_list_transforms,\n",
        "                         download=True)"
      ]
    },
    {
      "cell_type": "code",
      "source": [
        "batch_size = 128\n",
        "torch.manual_seed(0)\n",
        "\n",
        "train_loader  = torch.utils.data.DataLoader(dataset=fashion_mnist_train,\n",
        "                                           batch_size=batch_size,\n",
        "                                           shuffle=42,num_workers=3,worker_init_fn= lambda id : np.random.seed(id))\n",
        "\n",
        "test_loader = torch.utils.data.DataLoader(dataset=fashion_mnist_test,\n",
        "                                         batch_size=batch_size,\n",
        "                                         shuffle=42,num_workers=3,worker_init_fn= lambda id : np.random.seed(id))"
      ],
      "metadata": {
        "id": "pyKOb8C4lY32"
      },
      "execution_count": 34,
      "outputs": []
    },
    {
      "cell_type": "code",
      "source": [
        "#Accuracy table\n",
        "df_acc = pd.DataFrame({'Model' : [], 'STD' : [], 'FGSM' : [], 'PGD' : [], 'PGD_DCT' : [], 'FFGSM' : [], 'FFGSM_DCT' : []})"
      ],
      "metadata": {
        "id": "gWwhyhonAneD"
      },
      "execution_count": 35,
      "outputs": []
    },
    {
      "cell_type": "code",
      "execution_count": 36,
      "metadata": {
        "colab": {
          "base_uri": "https://localhost:8080/"
        },
        "id": "NroykEi1oPEZ",
        "outputId": "7966c498-9bbd-4e1c-c6ae-c68a9862fc1c"
      },
      "outputs": [
        {
          "output_type": "execute_result",
          "data": {
            "text/plain": [
              "CNN(\n",
              "  (layer): Sequential(\n",
              "    (0): Conv2d(1, 16, kernel_size=(5, 5), stride=(1, 1))\n",
              "    (1): ReLU()\n",
              "    (2): Conv2d(16, 32, kernel_size=(5, 5), stride=(1, 1))\n",
              "    (3): ReLU()\n",
              "    (4): MaxPool2d(kernel_size=2, stride=2, padding=0, dilation=1, ceil_mode=False)\n",
              "    (5): Conv2d(32, 64, kernel_size=(5, 5), stride=(1, 1))\n",
              "    (6): ReLU()\n",
              "    (7): MaxPool2d(kernel_size=2, stride=2, padding=0, dilation=1, ceil_mode=False)\n",
              "  )\n",
              "  (fc_layer): Sequential(\n",
              "    (0): Linear(in_features=576, out_features=100, bias=True)\n",
              "    (1): ReLU()\n",
              "    (2): Linear(in_features=100, out_features=10, bias=True)\n",
              "  )\n",
              ")"
            ]
          },
          "metadata": {},
          "execution_count": 36
        }
      ],
      "source": [
        "#defining model and parameters\n",
        "model = CNN().cuda()\n",
        "model_pgd = CNN().cuda()\n",
        "model_pgd_dct = CNN().cuda()\n",
        "model_ffgsm = CNN().cuda()\n",
        "model_ffgsm_dct = CNN().cuda()\n",
        "\n",
        "optimizer = optim.Adam(model.parameters(), lr=0.001)\n",
        "optimizer_pgd = optim.Adam(model_pgd.parameters(), lr=0.001)\n",
        "optimizer_pgd_dct = optim.Adam(model_pgd_dct.parameters(), lr=0.001)\n",
        "optimizer_ffgsm = optim.Adam(model_ffgsm.parameters(), lr=0.001)\n",
        "optimizer_ffgsm_dct = optim.Adam(model_ffgsm_dct.parameters(), lr=0.001)\n",
        "\n",
        "loss = nn.CrossEntropyLoss()\n",
        "num_epochs = 10\n",
        "\n",
        "model"
      ]
    },
    {
      "cell_type": "code",
      "execution_count": 37,
      "metadata": {
        "id": "Ryt6Jy2j2hkq"
      },
      "outputs": [],
      "source": [
        "#modified test function with 3 attacks and toggle between Pixel and DCT representation.Default is Pixel\n",
        "\n",
        "def get_accuracy(model, test_loader, attack=None):\n",
        "    model.eval()\n",
        "\n",
        "    correct = 0\n",
        "    total = 0\n",
        "    \n",
        "    if (attack==None):\n",
        "      atk = lambda x, y: x\n",
        "    elif (attack==\"FGSM\") :\n",
        "      atk = FGSM(model, eps=0.3)\n",
        "    elif (attack==\"PGD\") :\n",
        "      atk = PGD(model, eps=0.3)\n",
        "    elif (attack==\"PGD_DCT\") :\n",
        "      atk = PGD_DCT(model, eps=0.3)\n",
        "    elif (attack==\"FFGSM\") :\n",
        "      atk = FFGSM(model, eps=0.3)\n",
        "    elif (attack==\"FFGSM_DCT\") :\n",
        "      atk = FFGSM_DCT(model, eps=0.3)\n",
        "    \n",
        "\n",
        "    for images, labels in test_loader:\n",
        "\n",
        "        images = atk(images, labels).cuda()              \n",
        "        outputs = model(images)\n",
        "        _, predicted = torch.max(outputs.data, 1)\n",
        "        \n",
        "        total += labels.size(0)\n",
        "        correct += (predicted == labels.cuda()).sum()\n",
        "\n",
        "    acc = 100 * float(correct) / total\n",
        "    #print(f\"Attack: {attack}, Accuracy: {acc}\")\n",
        "\n",
        "    return acc"
      ]
    },
    {
      "cell_type": "code",
      "execution_count": 38,
      "metadata": {
        "id": "o4zxhXzypwY3"
      },
      "outputs": [],
      "source": [
        "#train function with PGD attack and toggle between DCT and Pixel representation .Default is Pixel\n",
        "\n",
        "def train_(model, train_loader, optimizer, loss, attack=None, num_epochs=5):\n",
        "\n",
        "    model.train()\n",
        "    \n",
        "    if (attack==None):\n",
        "      atk = lambda x, y: x\n",
        "    elif (attack==\"FGSM\") :\n",
        "      atk = FGSM(model, eps=0.3)\n",
        "    elif (attack==\"PGD\") :\n",
        "      atk = PGD(model, eps=0.3)\n",
        "    elif (attack==\"PGD_DCT\") :\n",
        "      atk = PGD_DCT(model, eps=0.3)\n",
        "    elif (attack==\"FFGSM\") :\n",
        "      atk = FFGSM(model, eps=0.3)\n",
        "    elif (attack==\"FFGSM_DCT\") :\n",
        "      atk = FFGSM_DCT(model, eps=0.3)\n",
        "\n",
        "    for epoch in range(num_epochs):\n",
        "\n",
        "        total_batch = len(fashion_mnist_train) // batch_size\n",
        "        \n",
        "        for i, (batch_images, batch_labels) in enumerate(train_loader):\n",
        "\n",
        "           \n",
        "            Y = batch_labels.cuda()\n",
        "            X = atk(batch_images, batch_labels).cuda()\n",
        "\n",
        "            pre = model(X)\n",
        "            cost = loss(pre, Y)\n",
        "\n",
        "            optimizer.zero_grad()\n",
        "            cost.backward()\n",
        "            optimizer.step()\n",
        "\n",
        "            if (i+1) % 100 == 0:\n",
        "                print(f'Atk: {attack}, Epoch [{epoch+1}/{num_epochs}], lter [{i+1}/{total_batch}], Loss: {cost.item()}')\n",
        "    return cost"
      ]
    },
    {
      "cell_type": "code",
      "execution_count": 39,
      "metadata": {
        "colab": {
          "base_uri": "https://localhost:8080/"
        },
        "id": "jUysRPR1n8SA",
        "outputId": "da451dde-7fc7-4cdd-b6f6-510e666db965"
      },
      "outputs": [
        {
          "output_type": "stream",
          "name": "stdout",
          "text": [
            "Atk: None, Epoch [1/5], lter [100/468], Loss: 0.6817713379859924\n",
            "Atk: None, Epoch [1/5], lter [200/468], Loss: 0.573227047920227\n",
            "Atk: None, Epoch [1/5], lter [300/468], Loss: 0.4903079569339752\n",
            "Atk: None, Epoch [1/5], lter [400/468], Loss: 0.439993679523468\n",
            "Atk: None, Epoch [2/5], lter [100/468], Loss: 0.44189631938934326\n",
            "Atk: None, Epoch [2/5], lter [200/468], Loss: 0.40173161029815674\n",
            "Atk: None, Epoch [2/5], lter [300/468], Loss: 0.41549959778785706\n",
            "Atk: None, Epoch [2/5], lter [400/468], Loss: 0.3369978964328766\n",
            "Atk: None, Epoch [3/5], lter [100/468], Loss: 0.3772985339164734\n",
            "Atk: None, Epoch [3/5], lter [200/468], Loss: 0.3878646492958069\n",
            "Atk: None, Epoch [3/5], lter [300/468], Loss: 0.2611545920372009\n",
            "Atk: None, Epoch [3/5], lter [400/468], Loss: 0.3413501977920532\n",
            "Atk: None, Epoch [4/5], lter [100/468], Loss: 0.2645367383956909\n",
            "Atk: None, Epoch [4/5], lter [200/468], Loss: 0.26191282272338867\n",
            "Atk: None, Epoch [4/5], lter [300/468], Loss: 0.4259136915206909\n",
            "Atk: None, Epoch [4/5], lter [400/468], Loss: 0.3100709617137909\n",
            "Atk: None, Epoch [5/5], lter [100/468], Loss: 0.18154862523078918\n",
            "Atk: None, Epoch [5/5], lter [200/468], Loss: 0.24952958524227142\n",
            "Atk: None, Epoch [5/5], lter [300/468], Loss: 0.2470911592245102\n",
            "Atk: None, Epoch [5/5], lter [400/468], Loss: 0.21214601397514343\n"
          ]
        }
      ],
      "source": [
        "cost0=train_(model,train_loader,optimizer,loss)"
      ]
    },
    {
      "cell_type": "code",
      "execution_count": 40,
      "metadata": {
        "id": "RgucA2WucLtc"
      },
      "outputs": [],
      "source": [
        "std_std_acc = get_accuracy(model, test_loader)\n",
        "std_fgsm_acc = get_accuracy(model, test_loader, \"FGSM\")\n",
        "std_pgd_acc = get_accuracy(model, test_loader, \"PGD\")\n",
        "std_pgd_dct_acc = get_accuracy(model, test_loader, \"PGD_DCT\")\n",
        "std_ffgsm_acc = get_accuracy(model, test_loader, \"FFGSM\")\n",
        "std_ffgsm_dct_acc = get_accuracy(model, test_loader, \"FFGSM_DCT\")"
      ]
    },
    {
      "cell_type": "code",
      "source": [
        "std_acc = pd.Series([\"Std\", std_std_acc, std_fgsm_acc, std_pgd_acc, std_pgd_dct_acc, std_ffgsm_acc, std_ffgsm_dct_acc], index=df_acc.columns)\n",
        "df_acc = df_acc.append(std_acc, ignore_index = True)\n",
        "df_acc"
      ],
      "metadata": {
        "colab": {
          "base_uri": "https://localhost:8080/",
          "height": 81
        },
        "id": "sJbKDed0Cm-2",
        "outputId": "e7a31585-a3d5-4c36-dc94-230abdd032f9"
      },
      "execution_count": 41,
      "outputs": [
        {
          "output_type": "execute_result",
          "data": {
            "text/plain": [
              "  Model    STD   FGSM    PGD  PGD_DCT  FFGSM  FFGSM_DCT\n",
              "0   Std  90.04  48.26  41.62    51.93  61.12      66.04"
            ],
            "text/html": [
              "\n",
              "  <div id=\"df-6e038db6-7e23-4c20-a5e0-9b4bbff23e46\">\n",
              "    <div class=\"colab-df-container\">\n",
              "      <div>\n",
              "<style scoped>\n",
              "    .dataframe tbody tr th:only-of-type {\n",
              "        vertical-align: middle;\n",
              "    }\n",
              "\n",
              "    .dataframe tbody tr th {\n",
              "        vertical-align: top;\n",
              "    }\n",
              "\n",
              "    .dataframe thead th {\n",
              "        text-align: right;\n",
              "    }\n",
              "</style>\n",
              "<table border=\"1\" class=\"dataframe\">\n",
              "  <thead>\n",
              "    <tr style=\"text-align: right;\">\n",
              "      <th></th>\n",
              "      <th>Model</th>\n",
              "      <th>STD</th>\n",
              "      <th>FGSM</th>\n",
              "      <th>PGD</th>\n",
              "      <th>PGD_DCT</th>\n",
              "      <th>FFGSM</th>\n",
              "      <th>FFGSM_DCT</th>\n",
              "    </tr>\n",
              "  </thead>\n",
              "  <tbody>\n",
              "    <tr>\n",
              "      <th>0</th>\n",
              "      <td>Std</td>\n",
              "      <td>90.04</td>\n",
              "      <td>48.26</td>\n",
              "      <td>41.62</td>\n",
              "      <td>51.93</td>\n",
              "      <td>61.12</td>\n",
              "      <td>66.04</td>\n",
              "    </tr>\n",
              "  </tbody>\n",
              "</table>\n",
              "</div>\n",
              "      <button class=\"colab-df-convert\" onclick=\"convertToInteractive('df-6e038db6-7e23-4c20-a5e0-9b4bbff23e46')\"\n",
              "              title=\"Convert this dataframe to an interactive table.\"\n",
              "              style=\"display:none;\">\n",
              "        \n",
              "  <svg xmlns=\"http://www.w3.org/2000/svg\" height=\"24px\"viewBox=\"0 0 24 24\"\n",
              "       width=\"24px\">\n",
              "    <path d=\"M0 0h24v24H0V0z\" fill=\"none\"/>\n",
              "    <path d=\"M18.56 5.44l.94 2.06.94-2.06 2.06-.94-2.06-.94-.94-2.06-.94 2.06-2.06.94zm-11 1L8.5 8.5l.94-2.06 2.06-.94-2.06-.94L8.5 2.5l-.94 2.06-2.06.94zm10 10l.94 2.06.94-2.06 2.06-.94-2.06-.94-.94-2.06-.94 2.06-2.06.94z\"/><path d=\"M17.41 7.96l-1.37-1.37c-.4-.4-.92-.59-1.43-.59-.52 0-1.04.2-1.43.59L10.3 9.45l-7.72 7.72c-.78.78-.78 2.05 0 2.83L4 21.41c.39.39.9.59 1.41.59.51 0 1.02-.2 1.41-.59l7.78-7.78 2.81-2.81c.8-.78.8-2.07 0-2.86zM5.41 20L4 18.59l7.72-7.72 1.47 1.35L5.41 20z\"/>\n",
              "  </svg>\n",
              "      </button>\n",
              "      \n",
              "  <style>\n",
              "    .colab-df-container {\n",
              "      display:flex;\n",
              "      flex-wrap:wrap;\n",
              "      gap: 12px;\n",
              "    }\n",
              "\n",
              "    .colab-df-convert {\n",
              "      background-color: #E8F0FE;\n",
              "      border: none;\n",
              "      border-radius: 50%;\n",
              "      cursor: pointer;\n",
              "      display: none;\n",
              "      fill: #1967D2;\n",
              "      height: 32px;\n",
              "      padding: 0 0 0 0;\n",
              "      width: 32px;\n",
              "    }\n",
              "\n",
              "    .colab-df-convert:hover {\n",
              "      background-color: #E2EBFA;\n",
              "      box-shadow: 0px 1px 2px rgba(60, 64, 67, 0.3), 0px 1px 3px 1px rgba(60, 64, 67, 0.15);\n",
              "      fill: #174EA6;\n",
              "    }\n",
              "\n",
              "    [theme=dark] .colab-df-convert {\n",
              "      background-color: #3B4455;\n",
              "      fill: #D2E3FC;\n",
              "    }\n",
              "\n",
              "    [theme=dark] .colab-df-convert:hover {\n",
              "      background-color: #434B5C;\n",
              "      box-shadow: 0px 1px 3px 1px rgba(0, 0, 0, 0.15);\n",
              "      filter: drop-shadow(0px 1px 2px rgba(0, 0, 0, 0.3));\n",
              "      fill: #FFFFFF;\n",
              "    }\n",
              "  </style>\n",
              "\n",
              "      <script>\n",
              "        const buttonEl =\n",
              "          document.querySelector('#df-6e038db6-7e23-4c20-a5e0-9b4bbff23e46 button.colab-df-convert');\n",
              "        buttonEl.style.display =\n",
              "          google.colab.kernel.accessAllowed ? 'block' : 'none';\n",
              "\n",
              "        async function convertToInteractive(key) {\n",
              "          const element = document.querySelector('#df-6e038db6-7e23-4c20-a5e0-9b4bbff23e46');\n",
              "          const dataTable =\n",
              "            await google.colab.kernel.invokeFunction('convertToInteractive',\n",
              "                                                     [key], {});\n",
              "          if (!dataTable) return;\n",
              "\n",
              "          const docLinkHtml = 'Like what you see? Visit the ' +\n",
              "            '<a target=\"_blank\" href=https://colab.research.google.com/notebooks/data_table.ipynb>data table notebook</a>'\n",
              "            + ' to learn more about interactive tables.';\n",
              "          element.innerHTML = '';\n",
              "          dataTable['output_type'] = 'display_data';\n",
              "          await google.colab.output.renderOutput(dataTable, element);\n",
              "          const docLink = document.createElement('div');\n",
              "          docLink.innerHTML = docLinkHtml;\n",
              "          element.appendChild(docLink);\n",
              "        }\n",
              "      </script>\n",
              "    </div>\n",
              "  </div>\n",
              "  "
            ]
          },
          "metadata": {},
          "execution_count": 41
        }
      ]
    },
    {
      "cell_type": "code",
      "execution_count": 42,
      "metadata": {
        "colab": {
          "base_uri": "https://localhost:8080/"
        },
        "id": "5vR6r0sEqxYE",
        "outputId": "ece94961-954a-4a40-d822-9726cd7e34ab"
      },
      "outputs": [
        {
          "output_type": "stream",
          "name": "stdout",
          "text": [
            "Atk: None, Epoch [1/5], lter [100/468], Loss: 0.7051586508750916\n",
            "Atk: None, Epoch [1/5], lter [200/468], Loss: 0.668381929397583\n",
            "Atk: None, Epoch [1/5], lter [300/468], Loss: 0.46945956349372864\n",
            "Atk: None, Epoch [1/5], lter [400/468], Loss: 0.37871962785720825\n",
            "Atk: None, Epoch [2/5], lter [100/468], Loss: 0.40928295254707336\n",
            "Atk: None, Epoch [2/5], lter [200/468], Loss: 0.45489948987960815\n",
            "Atk: None, Epoch [2/5], lter [300/468], Loss: 0.3375001847743988\n",
            "Atk: None, Epoch [2/5], lter [400/468], Loss: 0.226167693734169\n",
            "Atk: None, Epoch [3/5], lter [100/468], Loss: 0.35293057560920715\n",
            "Atk: None, Epoch [3/5], lter [200/468], Loss: 0.35371968150138855\n",
            "Atk: None, Epoch [3/5], lter [300/468], Loss: 0.24604816734790802\n",
            "Atk: None, Epoch [3/5], lter [400/468], Loss: 0.23009225726127625\n",
            "Atk: None, Epoch [4/5], lter [100/468], Loss: 0.2866828739643097\n",
            "Atk: None, Epoch [4/5], lter [200/468], Loss: 0.3719741106033325\n",
            "Atk: None, Epoch [4/5], lter [300/468], Loss: 0.2695278823375702\n",
            "Atk: None, Epoch [4/5], lter [400/468], Loss: 0.21483197808265686\n",
            "Atk: None, Epoch [5/5], lter [100/468], Loss: 0.23926690220832825\n",
            "Atk: None, Epoch [5/5], lter [200/468], Loss: 0.17698532342910767\n",
            "Atk: None, Epoch [5/5], lter [300/468], Loss: 0.17623841762542725\n",
            "Atk: None, Epoch [5/5], lter [400/468], Loss: 0.1592487394809723\n",
            "Atk: PGD, Epoch [1/5], lter [100/468], Loss: 0.689598560333252\n",
            "Atk: PGD, Epoch [1/5], lter [200/468], Loss: 0.588643491268158\n",
            "Atk: PGD, Epoch [1/5], lter [300/468], Loss: 0.7824253439903259\n",
            "Atk: PGD, Epoch [1/5], lter [400/468], Loss: 0.7614130973815918\n",
            "Atk: PGD, Epoch [2/5], lter [100/468], Loss: 0.6405266523361206\n",
            "Atk: PGD, Epoch [2/5], lter [200/468], Loss: 0.6307218074798584\n",
            "Atk: PGD, Epoch [2/5], lter [300/468], Loss: 0.6387713551521301\n",
            "Atk: PGD, Epoch [2/5], lter [400/468], Loss: 0.726007342338562\n",
            "Atk: PGD, Epoch [3/5], lter [100/468], Loss: 0.5343376994132996\n",
            "Atk: PGD, Epoch [3/5], lter [200/468], Loss: 0.6433498859405518\n",
            "Atk: PGD, Epoch [3/5], lter [300/468], Loss: 0.48350560665130615\n",
            "Atk: PGD, Epoch [3/5], lter [400/468], Loss: 0.5370922088623047\n",
            "Atk: PGD, Epoch [4/5], lter [100/468], Loss: 0.4736994206905365\n",
            "Atk: PGD, Epoch [4/5], lter [200/468], Loss: 0.5296251773834229\n",
            "Atk: PGD, Epoch [4/5], lter [300/468], Loss: 0.5551784038543701\n",
            "Atk: PGD, Epoch [4/5], lter [400/468], Loss: 0.6027630567550659\n",
            "Atk: PGD, Epoch [5/5], lter [100/468], Loss: 0.6178106069564819\n",
            "Atk: PGD, Epoch [5/5], lter [200/468], Loss: 0.587833046913147\n",
            "Atk: PGD, Epoch [5/5], lter [300/468], Loss: 0.5610978007316589\n",
            "Atk: PGD, Epoch [5/5], lter [400/468], Loss: 0.5565720796585083\n"
          ]
        }
      ],
      "source": [
        "#Initial training in Pixel representation\n",
        "cost_pgd0 = train_(model_pgd, train_loader, optimizer_pgd, loss)\n",
        "cost_pgd1 = train_(model_pgd, train_loader, optimizer_pgd, loss, \"PGD\")"
      ]
    },
    {
      "cell_type": "code",
      "execution_count": 43,
      "metadata": {
        "id": "UmKTdpAqxiHt"
      },
      "outputs": [],
      "source": [
        "#test accuracy with PGD attack\n",
        "pgd_std_acc = get_accuracy(model_pgd, test_loader)\n",
        "pgd_fgsm_acc = get_accuracy(model_pgd, test_loader, \"FGSM\")\n",
        "pgd_pgd_acc = get_accuracy(model_pgd, test_loader, \"PGD\")\n",
        "pgd_pgd_dct_acc = get_accuracy(model_pgd, test_loader, \"PGD_DCT\")\n",
        "pgd_ffgsm_acc = get_accuracy(model_pgd, test_loader, \"FFGSM\")\n",
        "pgd_ffgsm_dct_acc = get_accuracy(model_pgd, test_loader, \"FFGSM_DCT\")"
      ]
    },
    {
      "cell_type": "code",
      "source": [
        "#Save in dataframe\n",
        "pgd_acc = pd.Series([\"Pgd\", pgd_std_acc, pgd_fgsm_acc, pgd_pgd_acc, pgd_pgd_dct_acc, pgd_ffgsm_acc, pgd_ffgsm_dct_acc], index=df_acc.columns)\n",
        "df_acc = df_acc.append(pgd_acc, ignore_index = True)\n",
        "df_acc"
      ],
      "metadata": {
        "colab": {
          "base_uri": "https://localhost:8080/",
          "height": 112
        },
        "id": "i0b63H3oC6hZ",
        "outputId": "f81a0edf-3415-47c8-b95e-9fa83b713fd8"
      },
      "execution_count": 44,
      "outputs": [
        {
          "output_type": "execute_result",
          "data": {
            "text/plain": [
              "  Model    STD   FGSM    PGD  PGD_DCT  FFGSM  FFGSM_DCT\n",
              "0   Std  90.04  48.26  41.62    51.93  61.12      66.04\n",
              "1   Pgd  79.16  78.77  77.27    43.36  84.17      50.08"
            ],
            "text/html": [
              "\n",
              "  <div id=\"df-c580d516-8417-4837-8745-8cbd00f437cd\">\n",
              "    <div class=\"colab-df-container\">\n",
              "      <div>\n",
              "<style scoped>\n",
              "    .dataframe tbody tr th:only-of-type {\n",
              "        vertical-align: middle;\n",
              "    }\n",
              "\n",
              "    .dataframe tbody tr th {\n",
              "        vertical-align: top;\n",
              "    }\n",
              "\n",
              "    .dataframe thead th {\n",
              "        text-align: right;\n",
              "    }\n",
              "</style>\n",
              "<table border=\"1\" class=\"dataframe\">\n",
              "  <thead>\n",
              "    <tr style=\"text-align: right;\">\n",
              "      <th></th>\n",
              "      <th>Model</th>\n",
              "      <th>STD</th>\n",
              "      <th>FGSM</th>\n",
              "      <th>PGD</th>\n",
              "      <th>PGD_DCT</th>\n",
              "      <th>FFGSM</th>\n",
              "      <th>FFGSM_DCT</th>\n",
              "    </tr>\n",
              "  </thead>\n",
              "  <tbody>\n",
              "    <tr>\n",
              "      <th>0</th>\n",
              "      <td>Std</td>\n",
              "      <td>90.04</td>\n",
              "      <td>48.26</td>\n",
              "      <td>41.62</td>\n",
              "      <td>51.93</td>\n",
              "      <td>61.12</td>\n",
              "      <td>66.04</td>\n",
              "    </tr>\n",
              "    <tr>\n",
              "      <th>1</th>\n",
              "      <td>Pgd</td>\n",
              "      <td>79.16</td>\n",
              "      <td>78.77</td>\n",
              "      <td>77.27</td>\n",
              "      <td>43.36</td>\n",
              "      <td>84.17</td>\n",
              "      <td>50.08</td>\n",
              "    </tr>\n",
              "  </tbody>\n",
              "</table>\n",
              "</div>\n",
              "      <button class=\"colab-df-convert\" onclick=\"convertToInteractive('df-c580d516-8417-4837-8745-8cbd00f437cd')\"\n",
              "              title=\"Convert this dataframe to an interactive table.\"\n",
              "              style=\"display:none;\">\n",
              "        \n",
              "  <svg xmlns=\"http://www.w3.org/2000/svg\" height=\"24px\"viewBox=\"0 0 24 24\"\n",
              "       width=\"24px\">\n",
              "    <path d=\"M0 0h24v24H0V0z\" fill=\"none\"/>\n",
              "    <path d=\"M18.56 5.44l.94 2.06.94-2.06 2.06-.94-2.06-.94-.94-2.06-.94 2.06-2.06.94zm-11 1L8.5 8.5l.94-2.06 2.06-.94-2.06-.94L8.5 2.5l-.94 2.06-2.06.94zm10 10l.94 2.06.94-2.06 2.06-.94-2.06-.94-.94-2.06-.94 2.06-2.06.94z\"/><path d=\"M17.41 7.96l-1.37-1.37c-.4-.4-.92-.59-1.43-.59-.52 0-1.04.2-1.43.59L10.3 9.45l-7.72 7.72c-.78.78-.78 2.05 0 2.83L4 21.41c.39.39.9.59 1.41.59.51 0 1.02-.2 1.41-.59l7.78-7.78 2.81-2.81c.8-.78.8-2.07 0-2.86zM5.41 20L4 18.59l7.72-7.72 1.47 1.35L5.41 20z\"/>\n",
              "  </svg>\n",
              "      </button>\n",
              "      \n",
              "  <style>\n",
              "    .colab-df-container {\n",
              "      display:flex;\n",
              "      flex-wrap:wrap;\n",
              "      gap: 12px;\n",
              "    }\n",
              "\n",
              "    .colab-df-convert {\n",
              "      background-color: #E8F0FE;\n",
              "      border: none;\n",
              "      border-radius: 50%;\n",
              "      cursor: pointer;\n",
              "      display: none;\n",
              "      fill: #1967D2;\n",
              "      height: 32px;\n",
              "      padding: 0 0 0 0;\n",
              "      width: 32px;\n",
              "    }\n",
              "\n",
              "    .colab-df-convert:hover {\n",
              "      background-color: #E2EBFA;\n",
              "      box-shadow: 0px 1px 2px rgba(60, 64, 67, 0.3), 0px 1px 3px 1px rgba(60, 64, 67, 0.15);\n",
              "      fill: #174EA6;\n",
              "    }\n",
              "\n",
              "    [theme=dark] .colab-df-convert {\n",
              "      background-color: #3B4455;\n",
              "      fill: #D2E3FC;\n",
              "    }\n",
              "\n",
              "    [theme=dark] .colab-df-convert:hover {\n",
              "      background-color: #434B5C;\n",
              "      box-shadow: 0px 1px 3px 1px rgba(0, 0, 0, 0.15);\n",
              "      filter: drop-shadow(0px 1px 2px rgba(0, 0, 0, 0.3));\n",
              "      fill: #FFFFFF;\n",
              "    }\n",
              "  </style>\n",
              "\n",
              "      <script>\n",
              "        const buttonEl =\n",
              "          document.querySelector('#df-c580d516-8417-4837-8745-8cbd00f437cd button.colab-df-convert');\n",
              "        buttonEl.style.display =\n",
              "          google.colab.kernel.accessAllowed ? 'block' : 'none';\n",
              "\n",
              "        async function convertToInteractive(key) {\n",
              "          const element = document.querySelector('#df-c580d516-8417-4837-8745-8cbd00f437cd');\n",
              "          const dataTable =\n",
              "            await google.colab.kernel.invokeFunction('convertToInteractive',\n",
              "                                                     [key], {});\n",
              "          if (!dataTable) return;\n",
              "\n",
              "          const docLinkHtml = 'Like what you see? Visit the ' +\n",
              "            '<a target=\"_blank\" href=https://colab.research.google.com/notebooks/data_table.ipynb>data table notebook</a>'\n",
              "            + ' to learn more about interactive tables.';\n",
              "          element.innerHTML = '';\n",
              "          dataTable['output_type'] = 'display_data';\n",
              "          await google.colab.output.renderOutput(dataTable, element);\n",
              "          const docLink = document.createElement('div');\n",
              "          docLink.innerHTML = docLinkHtml;\n",
              "          element.appendChild(docLink);\n",
              "        }\n",
              "      </script>\n",
              "    </div>\n",
              "  </div>\n",
              "  "
            ]
          },
          "metadata": {},
          "execution_count": 44
        }
      ]
    },
    {
      "cell_type": "code",
      "execution_count": 45,
      "metadata": {
        "colab": {
          "base_uri": "https://localhost:8080/"
        },
        "id": "DC7ltmkCuVzE",
        "outputId": "ca56d5fc-4d8d-44e2-9679-5a9d3e2aa375"
      },
      "outputs": [
        {
          "output_type": "stream",
          "name": "stdout",
          "text": [
            "Atk: None, Epoch [1/5], lter [100/468], Loss: 0.5856550931930542\n",
            "Atk: None, Epoch [1/5], lter [200/468], Loss: 0.5148603320121765\n",
            "Atk: None, Epoch [1/5], lter [300/468], Loss: 0.5190271139144897\n",
            "Atk: None, Epoch [1/5], lter [400/468], Loss: 0.4926277697086334\n",
            "Atk: None, Epoch [2/5], lter [100/468], Loss: 0.40920838713645935\n",
            "Atk: None, Epoch [2/5], lter [200/468], Loss: 0.31705644726753235\n",
            "Atk: None, Epoch [2/5], lter [300/468], Loss: 0.3982064425945282\n",
            "Atk: None, Epoch [2/5], lter [400/468], Loss: 0.45284682512283325\n",
            "Atk: None, Epoch [3/5], lter [100/468], Loss: 0.35021287202835083\n",
            "Atk: None, Epoch [3/5], lter [200/468], Loss: 0.30483460426330566\n",
            "Atk: None, Epoch [3/5], lter [300/468], Loss: 0.2515949010848999\n",
            "Atk: None, Epoch [3/5], lter [400/468], Loss: 0.22583329677581787\n",
            "Atk: None, Epoch [4/5], lter [100/468], Loss: 0.3641591966152191\n",
            "Atk: None, Epoch [4/5], lter [200/468], Loss: 0.273802250623703\n",
            "Atk: None, Epoch [4/5], lter [300/468], Loss: 0.23597560822963715\n",
            "Atk: None, Epoch [4/5], lter [400/468], Loss: 0.2200821191072464\n",
            "Atk: None, Epoch [5/5], lter [100/468], Loss: 0.31858763098716736\n",
            "Atk: None, Epoch [5/5], lter [200/468], Loss: 0.26201382279396057\n",
            "Atk: None, Epoch [5/5], lter [300/468], Loss: 0.1812102198600769\n",
            "Atk: None, Epoch [5/5], lter [400/468], Loss: 0.4043360948562622\n",
            "Atk: PGD_DCT, Epoch [1/5], lter [100/468], Loss: 0.4812086820602417\n",
            "Atk: PGD_DCT, Epoch [1/5], lter [200/468], Loss: 0.38024595379829407\n",
            "Atk: PGD_DCT, Epoch [1/5], lter [300/468], Loss: 0.520458996295929\n",
            "Atk: PGD_DCT, Epoch [1/5], lter [400/468], Loss: 0.582786500453949\n",
            "Atk: PGD_DCT, Epoch [2/5], lter [100/468], Loss: 0.517582356929779\n",
            "Atk: PGD_DCT, Epoch [2/5], lter [200/468], Loss: 0.5558217763900757\n",
            "Atk: PGD_DCT, Epoch [2/5], lter [300/468], Loss: 0.3905206322669983\n",
            "Atk: PGD_DCT, Epoch [2/5], lter [400/468], Loss: 0.5229756236076355\n",
            "Atk: PGD_DCT, Epoch [3/5], lter [100/468], Loss: 0.424751341342926\n",
            "Atk: PGD_DCT, Epoch [3/5], lter [200/468], Loss: 0.42663270235061646\n",
            "Atk: PGD_DCT, Epoch [3/5], lter [300/468], Loss: 0.33806708455085754\n",
            "Atk: PGD_DCT, Epoch [3/5], lter [400/468], Loss: 0.31351304054260254\n",
            "Atk: PGD_DCT, Epoch [4/5], lter [100/468], Loss: 0.2903933823108673\n",
            "Atk: PGD_DCT, Epoch [4/5], lter [200/468], Loss: 0.3652653694152832\n",
            "Atk: PGD_DCT, Epoch [4/5], lter [300/468], Loss: 0.4216029644012451\n",
            "Atk: PGD_DCT, Epoch [4/5], lter [400/468], Loss: 0.47871071100234985\n",
            "Atk: PGD_DCT, Epoch [5/5], lter [100/468], Loss: 0.3831912875175476\n",
            "Atk: PGD_DCT, Epoch [5/5], lter [200/468], Loss: 0.38487014174461365\n",
            "Atk: PGD_DCT, Epoch [5/5], lter [300/468], Loss: 0.41237279772758484\n",
            "Atk: PGD_DCT, Epoch [5/5], lter [400/468], Loss: 0.49235570430755615\n"
          ]
        }
      ],
      "source": [
        "#Initial training in Pixel representation\n",
        "cost_pgd_dct0 = train_(model_pgd_dct, train_loader, optimizer_pgd_dct, loss)\n",
        "cost_pgd_dct1 = train_(model_pgd_dct, train_loader, optimizer_pgd_dct, loss, \"PGD_DCT\")"
      ]
    },
    {
      "cell_type": "code",
      "execution_count": 46,
      "metadata": {
        "id": "w8HJ1aXCvsIu"
      },
      "outputs": [],
      "source": [
        "#test accuracy with PGD attack\n",
        "pgd_dct_std_acc = get_accuracy(model_pgd_dct, test_loader)\n",
        "pgd_dct_fgsm_acc = get_accuracy(model_pgd_dct, test_loader, \"FGSM\")\n",
        "pgd_dct_pgd_acc = get_accuracy(model_pgd_dct, test_loader, \"PGD\")\n",
        "pgd_dct_pgd_dct_acc = get_accuracy(model_pgd_dct, test_loader, \"PGD_DCT\")\n",
        "pgd_dct_ffgsm_acc = get_accuracy(model_pgd_dct, test_loader, \"FFGSM\")\n",
        "pgd_dct_ffgsm_dct_acc = get_accuracy(model_pgd_dct, test_loader, \"FFGSM_DCT\")"
      ]
    },
    {
      "cell_type": "code",
      "source": [
        "#Save in dataframe\n",
        "pgd_dct_acc = pd.Series([\"Pgd_dct\", pgd_dct_std_acc, pgd_dct_fgsm_acc, pgd_dct_pgd_acc, pgd_dct_pgd_dct_acc, pgd_dct_ffgsm_acc, pgd_dct_ffgsm_dct_acc], index = df_acc.columns)\n",
        "df_acc = df_acc.append(pgd_dct_acc, ignore_index = True)\n",
        "df_acc"
      ],
      "metadata": {
        "colab": {
          "base_uri": "https://localhost:8080/",
          "height": 143
        },
        "id": "EecFwEUK_-f4",
        "outputId": "4462a173-7d49-4092-fd54-869544ad0eb7"
      },
      "execution_count": 47,
      "outputs": [
        {
          "output_type": "execute_result",
          "data": {
            "text/plain": [
              "     Model    STD   FGSM    PGD  PGD_DCT  FFGSM  FFGSM_DCT\n",
              "0      Std  90.04  48.26  41.62    51.93  61.12      66.04\n",
              "1      Pgd  79.16  78.77  77.27    43.36  84.17      50.08\n",
              "2  Pgd_dct  85.16  65.49  62.93    83.53  78.96      87.16"
            ],
            "text/html": [
              "\n",
              "  <div id=\"df-1cf06698-d71b-489a-9f57-60f113290d05\">\n",
              "    <div class=\"colab-df-container\">\n",
              "      <div>\n",
              "<style scoped>\n",
              "    .dataframe tbody tr th:only-of-type {\n",
              "        vertical-align: middle;\n",
              "    }\n",
              "\n",
              "    .dataframe tbody tr th {\n",
              "        vertical-align: top;\n",
              "    }\n",
              "\n",
              "    .dataframe thead th {\n",
              "        text-align: right;\n",
              "    }\n",
              "</style>\n",
              "<table border=\"1\" class=\"dataframe\">\n",
              "  <thead>\n",
              "    <tr style=\"text-align: right;\">\n",
              "      <th></th>\n",
              "      <th>Model</th>\n",
              "      <th>STD</th>\n",
              "      <th>FGSM</th>\n",
              "      <th>PGD</th>\n",
              "      <th>PGD_DCT</th>\n",
              "      <th>FFGSM</th>\n",
              "      <th>FFGSM_DCT</th>\n",
              "    </tr>\n",
              "  </thead>\n",
              "  <tbody>\n",
              "    <tr>\n",
              "      <th>0</th>\n",
              "      <td>Std</td>\n",
              "      <td>90.04</td>\n",
              "      <td>48.26</td>\n",
              "      <td>41.62</td>\n",
              "      <td>51.93</td>\n",
              "      <td>61.12</td>\n",
              "      <td>66.04</td>\n",
              "    </tr>\n",
              "    <tr>\n",
              "      <th>1</th>\n",
              "      <td>Pgd</td>\n",
              "      <td>79.16</td>\n",
              "      <td>78.77</td>\n",
              "      <td>77.27</td>\n",
              "      <td>43.36</td>\n",
              "      <td>84.17</td>\n",
              "      <td>50.08</td>\n",
              "    </tr>\n",
              "    <tr>\n",
              "      <th>2</th>\n",
              "      <td>Pgd_dct</td>\n",
              "      <td>85.16</td>\n",
              "      <td>65.49</td>\n",
              "      <td>62.93</td>\n",
              "      <td>83.53</td>\n",
              "      <td>78.96</td>\n",
              "      <td>87.16</td>\n",
              "    </tr>\n",
              "  </tbody>\n",
              "</table>\n",
              "</div>\n",
              "      <button class=\"colab-df-convert\" onclick=\"convertToInteractive('df-1cf06698-d71b-489a-9f57-60f113290d05')\"\n",
              "              title=\"Convert this dataframe to an interactive table.\"\n",
              "              style=\"display:none;\">\n",
              "        \n",
              "  <svg xmlns=\"http://www.w3.org/2000/svg\" height=\"24px\"viewBox=\"0 0 24 24\"\n",
              "       width=\"24px\">\n",
              "    <path d=\"M0 0h24v24H0V0z\" fill=\"none\"/>\n",
              "    <path d=\"M18.56 5.44l.94 2.06.94-2.06 2.06-.94-2.06-.94-.94-2.06-.94 2.06-2.06.94zm-11 1L8.5 8.5l.94-2.06 2.06-.94-2.06-.94L8.5 2.5l-.94 2.06-2.06.94zm10 10l.94 2.06.94-2.06 2.06-.94-2.06-.94-.94-2.06-.94 2.06-2.06.94z\"/><path d=\"M17.41 7.96l-1.37-1.37c-.4-.4-.92-.59-1.43-.59-.52 0-1.04.2-1.43.59L10.3 9.45l-7.72 7.72c-.78.78-.78 2.05 0 2.83L4 21.41c.39.39.9.59 1.41.59.51 0 1.02-.2 1.41-.59l7.78-7.78 2.81-2.81c.8-.78.8-2.07 0-2.86zM5.41 20L4 18.59l7.72-7.72 1.47 1.35L5.41 20z\"/>\n",
              "  </svg>\n",
              "      </button>\n",
              "      \n",
              "  <style>\n",
              "    .colab-df-container {\n",
              "      display:flex;\n",
              "      flex-wrap:wrap;\n",
              "      gap: 12px;\n",
              "    }\n",
              "\n",
              "    .colab-df-convert {\n",
              "      background-color: #E8F0FE;\n",
              "      border: none;\n",
              "      border-radius: 50%;\n",
              "      cursor: pointer;\n",
              "      display: none;\n",
              "      fill: #1967D2;\n",
              "      height: 32px;\n",
              "      padding: 0 0 0 0;\n",
              "      width: 32px;\n",
              "    }\n",
              "\n",
              "    .colab-df-convert:hover {\n",
              "      background-color: #E2EBFA;\n",
              "      box-shadow: 0px 1px 2px rgba(60, 64, 67, 0.3), 0px 1px 3px 1px rgba(60, 64, 67, 0.15);\n",
              "      fill: #174EA6;\n",
              "    }\n",
              "\n",
              "    [theme=dark] .colab-df-convert {\n",
              "      background-color: #3B4455;\n",
              "      fill: #D2E3FC;\n",
              "    }\n",
              "\n",
              "    [theme=dark] .colab-df-convert:hover {\n",
              "      background-color: #434B5C;\n",
              "      box-shadow: 0px 1px 3px 1px rgba(0, 0, 0, 0.15);\n",
              "      filter: drop-shadow(0px 1px 2px rgba(0, 0, 0, 0.3));\n",
              "      fill: #FFFFFF;\n",
              "    }\n",
              "  </style>\n",
              "\n",
              "      <script>\n",
              "        const buttonEl =\n",
              "          document.querySelector('#df-1cf06698-d71b-489a-9f57-60f113290d05 button.colab-df-convert');\n",
              "        buttonEl.style.display =\n",
              "          google.colab.kernel.accessAllowed ? 'block' : 'none';\n",
              "\n",
              "        async function convertToInteractive(key) {\n",
              "          const element = document.querySelector('#df-1cf06698-d71b-489a-9f57-60f113290d05');\n",
              "          const dataTable =\n",
              "            await google.colab.kernel.invokeFunction('convertToInteractive',\n",
              "                                                     [key], {});\n",
              "          if (!dataTable) return;\n",
              "\n",
              "          const docLinkHtml = 'Like what you see? Visit the ' +\n",
              "            '<a target=\"_blank\" href=https://colab.research.google.com/notebooks/data_table.ipynb>data table notebook</a>'\n",
              "            + ' to learn more about interactive tables.';\n",
              "          element.innerHTML = '';\n",
              "          dataTable['output_type'] = 'display_data';\n",
              "          await google.colab.output.renderOutput(dataTable, element);\n",
              "          const docLink = document.createElement('div');\n",
              "          docLink.innerHTML = docLinkHtml;\n",
              "          element.appendChild(docLink);\n",
              "        }\n",
              "      </script>\n",
              "    </div>\n",
              "  </div>\n",
              "  "
            ]
          },
          "metadata": {},
          "execution_count": 47
        }
      ]
    },
    {
      "cell_type": "code",
      "execution_count": 48,
      "metadata": {
        "id": "lMzvul6BtNcp"
      },
      "outputs": [],
      "source": [
        "#Loss when converting from Pixel to DCT\n",
        "\n",
        "examples = enumerate(test_loader)\n",
        "batch_idx, (example_data, example_targets) = next(examples)\n"
      ]
    },
    {
      "cell_type": "code",
      "execution_count": 49,
      "metadata": {
        "id": "8T3NHBW5tc3h",
        "colab": {
          "base_uri": "https://localhost:8080/",
          "height": 283
        },
        "outputId": "394ead9d-2c18-44ad-8d77-dcf1c8b64540"
      },
      "outputs": [
        {
          "output_type": "execute_result",
          "data": {
            "text/plain": [
              "<matplotlib.image.AxesImage at 0x7f7124fcd950>"
            ]
          },
          "metadata": {},
          "execution_count": 49
        },
        {
          "output_type": "display_data",
          "data": {
            "text/plain": [
              "<Figure size 432x288 with 1 Axes>"
            ],
            "image/png": "[encoded data removed]"
          },
          "metadata": {
            "needs_background": "light"
          }
        }
      ],
      "source": [
        "#Pixel representation\n",
        "import matplotlib.pyplot as plt\n",
        "\n",
        "fig = plt.figure()\n",
        "\n",
        "plt.imshow(example_data[0][0], cmap='gray', interpolation='none')\n",
        "\n",
        "\n",
        "\n"
      ]
    },
    {
      "cell_type": "code",
      "execution_count": 50,
      "metadata": {
        "id": "oz3caxa3vNiT",
        "colab": {
          "base_uri": "https://localhost:8080/",
          "height": 283
        },
        "outputId": "964c0147-f2ed-4f27-b223-36ded67e573f"
      },
      "outputs": [
        {
          "output_type": "execute_result",
          "data": {
            "text/plain": [
              "<matplotlib.image.AxesImage at 0x7f712690b250>"
            ]
          },
          "metadata": {},
          "execution_count": 50
        },
        {
          "output_type": "display_data",
          "data": {
            "text/plain": [
              "<Figure size 432x288 with 1 Axes>"
            ],
            "image/png": "[encoded data removed]"
          },
          "metadata": {
            "needs_background": "light"
          }
        }
      ],
      "source": [
        "#DCT representation\n",
        "\n",
        "fig1 = plt.figure()\n",
        "\n",
        "plt.imshow(dct.idct(dct.dct(example_data[0][0])), cmap='gray', interpolation='none')\n",
        "\n"
      ]
    },
    {
      "cell_type": "code",
      "execution_count": 51,
      "metadata": {
        "id": "SxCRZ_1Bvu7X",
        "colab": {
          "base_uri": "https://localhost:8080/"
        },
        "outputId": "a065a3ed-6b7a-4fd5-822a-35b69230a059"
      },
      "outputs": [
        {
          "output_type": "stream",
          "name": "stdout",
          "text": [
            "output:  tensor(2.4257e-14)\n"
          ]
        }
      ],
      "source": [
        "#MSE LOSS between the two tensors\n",
        "input = example_data\n",
        "target = dct.idct(dct.dct(example_data))\n",
        "mse_loss = nn.MSELoss()\n",
        "output = mse_loss(input, target)\n",
        "\n",
        "\n",
        "#print('input: ', input)\n",
        "#print('target: ', target)\n",
        "print('output: ', output)"
      ]
    }
  ],
  "metadata": {
    "accelerator": "GPU",
    "colab": {
      "collapsed_sections": [],
      "name": "srp_12_08.ipynb",
      "provenance": []
    },
    "kernelspec": {
      "display_name": "Python 3",
      "name": "python3"
    },
    "language_info": {
      "name": "python"
    }
  },
  "nbformat": 4,
  "nbformat_minor": 0
}