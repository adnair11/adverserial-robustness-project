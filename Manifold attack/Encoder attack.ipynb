{
 "cells": [
  {
   "cell_type": "code",
   "execution_count": 1,
   "id": "ce5043e3",
   "metadata": {},
   "outputs": [],
   "source": [
    "#Import packages\n",
    "\n",
    "import torch\n",
    "import torch.nn as nn\n",
    "import torch.nn.functional as F\n",
    "import torch.optim as optim\n",
    "import torchvision\n",
    "from torchvision import datasets\n",
    "from torchvision import transforms\n",
    "import numpy as np\n",
    "\n",
    "from art.attacks.evasion import FastGradientMethod\n",
    "from art.estimators.classification import PyTorchClassifier\n",
    "from art.utils import load_mnist\n",
    "\n",
    "from matplotlib import pyplot as plt\n",
    "\n",
    "#torchvision.datasets.ImageNet('imagenet')"
   ]
  },
  {
   "cell_type": "code",
   "execution_count": 2,
   "id": "cfd7091d",
   "metadata": {},
   "outputs": [],
   "source": [
    "#Load the MNIST dataset\n",
    "\n",
    "(X_train, y_train), (X_test, y_test), min_pixel_value, max_pixel_value = load_mnist()\n",
    "\n",
    "#Swap axes to PyTorch's NCHW format\n",
    "\n",
    "x_train = np.transpose(X_train, (0, 3, 1, 2)).astype(np.float32)\n",
    "x_test = np.transpose(X_test, (0, 3, 1, 2)).astype(np.float32)"
   ]
  },
  {
   "cell_type": "code",
   "execution_count": 3,
   "id": "8e96bf8d",
   "metadata": {},
   "outputs": [],
   "source": [
    "# Transforms images to a PyTorch Tensor\n",
    "tensor_transform = transforms.ToTensor()\n",
    "  \n",
    "# Download the MNIST Dataset\n",
    "dataset = datasets.MNIST(root = \"./data\",\n",
    "                         train = True,\n",
    "                         download = True,\n",
    "                         transform = tensor_transform)\n",
    "  \n",
    "# DataLoader is used to load the dataset \n",
    "# for training\n",
    "loader = torch.utils.data.DataLoader(dataset = dataset,\n",
    "                                     batch_size = 32,\n",
    "                                     shuffle = True)"
   ]
  },
  {
   "cell_type": "code",
   "execution_count": 4,
   "id": "86a96a95",
   "metadata": {},
   "outputs": [],
   "source": [
    "#Plot MNIST image function\n",
    "def plot_mnist_img(image):\n",
    "    pixels = image.reshape((28, 28))\n",
    "    plt.imshow(pixels, cmap='gray')\n",
    "    plt.show()"
   ]
  },
  {
   "cell_type": "code",
   "execution_count": 5,
   "id": "1ecfae42",
   "metadata": {},
   "outputs": [
    {
     "name": "stdout",
     "output_type": "stream",
     "text": [
      "Autoencoder dataset: <class 'numpy.ndarray'>, (60000, 1, 28, 28).\n",
      "Autoencoder input: <class 'numpy.ndarray'>, (1, 28, 28).\n",
      "Classification subset: <class 'torch.Tensor'>, (784, 784, 28, 1).\n",
      "Classification inputs: <class 'torch.Tensor'>, (784, 28, 1).\n",
      "Autoencoder modification: (784, 28, 1).\n",
      "Classification modification: (1, 28, 28).\n"
     ]
    }
   ],
   "source": [
    "print(f\"Autoencoder dataset: {type(x_train)}, {x_train.shape}.\")\n",
    "print(f\"Autoencoder input: {type(x_train[0])}, {x_train[0].shape}.\")\n",
    "for (image, _) in loader:\n",
    "    print(f\"Classification subset: {type(image)}, {image.stride()}.\")\n",
    "    print(f\"Classification inputs: {type(image[0])}, {image[0].stride()}.\")\n",
    "    modified_img = image[0].detach().numpy()\n",
    "    modified_np = torch.from_numpy(x_train[0])\n",
    "    print(f\"Autoencoder modification: {modified_np.stride()}.\")\n",
    "    print(f\"Classification modification: {modified_img.shape}.\")\n",
    "    break"
   ]
  },
  {
   "cell_type": "code",
   "execution_count": 6,
   "id": "46cb3cd8",
   "metadata": {},
   "outputs": [
    {
     "name": "stdout",
     "output_type": "stream",
     "text": [
      "Epochs: 1/3\n",
      "Epochs: 2/3\n",
      "Epochs: 3/3\n"
     ]
    },
    {
     "data": {
      "text/plain": [
       "[<matplotlib.lines.Line2D at 0x22ec6d57220>]"
      ]
     },
     "execution_count": 6,
     "metadata": {},
     "output_type": "execute_result"
    },
    {
     "data": {
      "image/png": "[encoded data removed]",
      "text/plain": [
       "<Figure size 432x288 with 1 Axes>"
      ]
     },
     "metadata": {},
     "output_type": "display_data"
    }
   ],
   "source": [
    "#Initialize autoencoder class\n",
    "\n",
    "class Autoencoder(nn.Module):\n",
    "    def __init__(self):\n",
    "        super().__init__()\n",
    "          \n",
    "        # Building an linear encoder with Linear\n",
    "        # layer followed by Relu activation function\n",
    "        # 784 ==> 9\n",
    "        self.encoder = torch.nn.Sequential(\n",
    "            nn.Linear(28 * 28, 128),\n",
    "            nn.PReLU(),\n",
    "            nn.Linear(128, 64),\n",
    "            nn.PReLU(),\n",
    "            nn.Linear(64, 36),\n",
    "            nn.PReLU(),\n",
    "            nn.Linear(36, 18),\n",
    "            nn.PReLU(),\n",
    "            nn.Linear(18, 9),\n",
    "        )\n",
    "          \n",
    "        # Building an linear decoder with Linear\n",
    "        # layer followed by Relu activation function\n",
    "        # The Sigmoid activation function\n",
    "        # outputs the value between 0 and 1\n",
    "        # 9 ==> 784\n",
    "        self.decoder = torch.nn.Sequential(\n",
    "            nn.Linear(9, 18),\n",
    "            nn.PReLU(),\n",
    "            nn.Linear(18, 36),\n",
    "            nn.PReLU(),\n",
    "            nn.Linear(36, 64),\n",
    "            nn.PReLU(),\n",
    "            nn.Linear(64, 128),\n",
    "            nn.PReLU(),\n",
    "            nn.Linear(128, 28 * 28),\n",
    "            nn.Sigmoid()\n",
    "        )\n",
    "  \n",
    "    def forward(self, x):\n",
    "        encoded = self.encoder(x)\n",
    "        decoded = self.decoder(encoded)\n",
    "        return decoded\n",
    "\n",
    "# Step 2: Create the model\n",
    "\n",
    "model = Autoencoder()\n",
    "  \n",
    "# Validation using MSE Loss function\n",
    "loss_function = torch.nn.MSELoss()\n",
    "  \n",
    "# Using an Adam Optimizer with lr = 0.1\n",
    "optimizer = torch.optim.Adam(model.parameters(),\n",
    "                             lr = 1e-3,\n",
    "                             weight_decay = 1e-8)\n",
    "\n",
    "# Step 3: Create the ART classifier\n",
    "\n",
    "epochs = 3\n",
    "outputs = []\n",
    "losses = []\n",
    "for epoch in range(epochs):\n",
    "    for (image, _) in loader:\n",
    "        \n",
    "        # Reshaping the image to (-1, 784)\n",
    "        image = image.reshape(-1, 28*28)\n",
    "\n",
    "        # Output of Autoencoder\n",
    "        reconstructed = model(image)\n",
    "\n",
    "        # Calculating the loss function\n",
    "        loss = loss_function(reconstructed, image)\n",
    "\n",
    "        # The gradients are set to zero,\n",
    "        # the the gradient is computed and stored.\n",
    "        # .step() performs parameter update\n",
    "        optimizer.zero_grad()\n",
    "        loss.backward()\n",
    "        optimizer.step()\n",
    "\n",
    "        # Storing the losses in a list for plotting\n",
    "        losses.append(loss)\n",
    "        \n",
    "    outputs.append((epochs, image, reconstructed))\n",
    "    print(f\"Epochs: {epoch+1}/{epochs}\")\n",
    "\n",
    "# Defining the Plot Style\n",
    "plt.style.use('fivethirtyeight')\n",
    "plt.xlabel('Iterations')\n",
    "plt.ylabel('Loss')\n",
    "  \n",
    "# Plotting the last 100 values\n",
    "plt.plot(losses)"
   ]
  },
  {
   "cell_type": "code",
   "execution_count": 8,
   "id": "25869d52",
   "metadata": {},
   "outputs": [
    {
     "data": {
      "image/png": "[encoded data removed]",
      "text/plain": [
       "<Figure size 432x288 with 1 Axes>"
      ]
     },
     "metadata": {},
     "output_type": "display_data"
    },
    {
     "data": {
      "image/png": "[encoded data removed]",
      "text/plain": [
       "<Figure size 432x288 with 1 Axes>"
      ]
     },
     "metadata": {},
     "output_type": "display_data"
    },
    {
     "data": {
      "image/png": "[encoded data removed]",
      "text/plain": [
       "<Figure size 432x288 with 1 Axes>"
      ]
     },
     "metadata": {},
     "output_type": "display_data"
    },
    {
     "data": {
      "image/png": "[encoded data removed]",
      "text/plain": [
       "<Figure size 432x288 with 1 Axes>"
      ]
     },
     "metadata": {},
     "output_type": "display_data"
    },
    {
     "data": {
      "image/png": "[encoded data removed]",
      "text/plain": [
       "<Figure size 432x288 with 1 Axes>"
      ]
     },
     "metadata": {},
     "output_type": "display_data"
    },
    {
     "data": {
      "image/png": "[encoded data removed]",
      "text/plain": [
       "<Figure size 432x288 with 1 Axes>"
      ]
     },
     "metadata": {},
     "output_type": "display_data"
    }
   ],
   "source": [
    "count = 0\n",
    "for (image, _) in loader:\n",
    "    image = image.reshape(-1, 28*28)\n",
    "    decoded_image = model(image[0])\n",
    "    plot_mnist_img(image[0].detach().numpy())\n",
    "    plot_mnist_img(decoded_image.detach().numpy())\n",
    "    count +=1\n",
    "    if count == 3:\n",
    "        break"
   ]
  },
  {
   "cell_type": "code",
   "execution_count": 9,
   "id": "51be3231",
   "metadata": {},
   "outputs": [
    {
     "name": "stdout",
     "output_type": "stream",
     "text": [
      "Accuracy on benign test examples: 6.2700000000000005%\n"
     ]
    },
    {
     "data": {
      "text/plain": [
       "'\\n# Step 6: Generate adversarial test examples\\nattack = FastGradientMethod(estimator=classifier, eps=0.2)\\nx_test_adv = attack.generate(x=x_test)\\n\\n# Step 7: Evaluate the ART classifier on adversarial test examples\\n\\npredictions = classifier.predict(x_test_adv)\\naccuracy = np.sum(np.argmax(predictions, axis=1) == np.argmax(y_test, axis=1)) / len(y_test)\\nprint(\"Accuracy on adversarial test examples: {}%\".format(accuracy * 100))\\n'"
      ]
     },
     "execution_count": 9,
     "metadata": {},
     "output_type": "execute_result"
    }
   ],
   "source": [
    "#Generate Net class\n",
    "\n",
    "class Net(nn.Module):\n",
    "    def __init__(self):\n",
    "        super(Net, self).__init__()\n",
    "        self.conv_1 = nn.Conv2d(in_channels=1, out_channels=4, kernel_size=5, stride=1)\n",
    "        self.conv_2 = nn.Conv2d(in_channels=4, out_channels=10, kernel_size=5, stride=1)\n",
    "        self.fc_1 = nn.Linear(in_features=4 * 4 * 10, out_features=100)\n",
    "        self.fc_2 = nn.Linear(in_features=100, out_features=10)\n",
    "\n",
    "    def forward(self, x):\n",
    "        x = F.relu(self.conv_1(x))\n",
    "        x = F.max_pool2d(x, 2, 2)\n",
    "        x = F.relu(self.conv_2(x))\n",
    "        x = F.max_pool2d(x, 2, 2)\n",
    "        x = x.view(-1, 4 * 4 * 10)\n",
    "        x = F.relu(self.fc_1(x))\n",
    "        x = self.fc_2(x)\n",
    "        return x\n",
    "\n",
    "\n",
    "\n",
    "# Step 2: Create the model\n",
    "\n",
    "model_clf = Net()\n",
    "\n",
    "# Step 2a: Define the loss function and the optimizer\n",
    "\n",
    "criterion = nn.CrossEntropyLoss()\n",
    "optimizer = optim.Adam(model.parameters(), lr=0.01)\n",
    "\n",
    "# Step 3: Create the ART classifier\n",
    "\n",
    "classifier = PyTorchClassifier(\n",
    "    model=model_clf,\n",
    "    clip_values=(min_pixel_value, max_pixel_value),\n",
    "    loss=criterion,\n",
    "    optimizer=optimizer,\n",
    "    input_shape=(1, 28, 28),\n",
    "    nb_classes=10,\n",
    ")\n",
    "\n",
    "# Step 4: Train the ART classifier\n",
    "\n",
    "classifier.fit(x_train, y_train, batch_size=64, nb_epochs=3)\n",
    "\n",
    "# Step 5: Evaluate the ART classifier on benign test examples\n",
    "\n",
    "predictions = classifier.predict(x_test)\n",
    "accuracy = np.sum(np.argmax(predictions, axis=1) == np.argmax(y_test, axis=1)) / len(y_test)\n",
    "print(\"Accuracy on benign test examples: {}%\".format(accuracy * 100))\n",
    "\n",
    "\"\"\"\n",
    "# Step 6: Generate adversarial test examples\n",
    "attack = FastGradientMethod(estimator=classifier, eps=0.2)\n",
    "x_test_adv = attack.generate(x=x_test)\n",
    "\n",
    "# Step 7: Evaluate the ART classifier on adversarial test examples\n",
    "\n",
    "predictions = classifier.predict(x_test_adv)\n",
    "accuracy = np.sum(np.argmax(predictions, axis=1) == np.argmax(y_test, axis=1)) / len(y_test)\n",
    "print(\"Accuracy on adversarial test examples: {}%\".format(accuracy * 100))\n",
    "\"\"\"\n"
   ]
  },
  {
   "cell_type": "code",
   "execution_count": 29,
   "id": "de392c29",
   "metadata": {},
   "outputs": [],
   "source": [
    "def manifold_attack(classifier, X, autoencoder, epsilon=0.3):\n",
    "    max_iters = 40\n",
    "    result = []\n",
    "    y_pred = classifier.predict(X)\n",
    "    y_pred_class = np.argmax(y_pred, axis=1)\n",
    "    #Loop through instances\n",
    "    for i,x in enumerate(X):\n",
    "        image = x.reshape(-1, 28*28)\n",
    "        x_enc = autoencoder.encoder(image)\n",
    "        size = len(x_enc[0])\n",
    "        canAdd = True\n",
    "        #Try different possible attack combinantions\n",
    "        for j in range(max_iters):\n",
    "            #Get random attack\n",
    "            delta_aux = np.random.normal(size=size)\n",
    "            delta_aux_norm = np.sqrt((delta_aux**2).sum())\n",
    "            delta = epsilon*np.random.uniform(1)*delta_aux/delta_aux_norm\n",
    "            x_attack_enc = x_enc + torch.from_numpy(delta)\n",
    "            x_attack = autoencoder.decoder(x_attack_enc.to(torch.float))\n",
    "            x_attack_np = x_attack.detach().numpy()\n",
    "            image = x_attack_np.reshape((28,28))\n",
    "            #Check if attack changes classifier prediction\n",
    "            y_pred_attack = classifier.predict([[image]])\n",
    "            y_pred_attack_class = np.argmax(y_pred_attack)\n",
    "            if not y_pred_class[i] != y_pred_attack_class:\n",
    "                result.append([image])\n",
    "                canAdd = False\n",
    "                break\n",
    "        if canAdd:\n",
    "            result.append([image])\n",
    "    return result\n",
    "            "
   ]
  },
  {
   "cell_type": "code",
   "execution_count": 41,
   "id": "18e4ef03",
   "metadata": {},
   "outputs": [
    {
     "name": "stdout",
     "output_type": "stream",
     "text": [
      "Epochs: 1/3\n",
      "Epochs: 2/3\n",
      "Epochs: 3/3\n"
     ]
    }
   ],
   "source": [
    "#Get train attack set\n",
    "x_attack_set = []\n",
    "y_attack_set = []\n",
    "for epoch in range(epochs):\n",
    "    for (image, y) in loader:\n",
    "        x_attack = manifold_attack(classifier, image, model)\n",
    "        x_attack_set.append(x_attack)\n",
    "        y_attack_set.append(y)\n",
    "    print(f\"Epochs: {epoch+1}/{epochs}\")\n"
   ]
  },
  {
   "cell_type": "code",
   "execution_count": 42,
   "id": "7fa26adb",
   "metadata": {},
   "outputs": [],
   "source": [
    "#Get test attack set\n",
    "x_attack_test_set = []\n",
    "y_attack_test_set = []\n",
    "for (image, y) in loader:\n",
    "    x_attack = manifold_attack(classifier, image, model)\n",
    "    x_attack_test_set.append(x_attack)\n",
    "    y_attack_test_set.append(y)"
   ]
  },
  {
   "cell_type": "code",
   "execution_count": 46,
   "id": "ec1388aa",
   "metadata": {},
   "outputs": [],
   "source": [
    "#Function to measure accuracy\n",
    "def measure_accuracy(classifier, X, Y):\n",
    "    acc_test = 0\n",
    "    for i in range(len(X)):\n",
    "        pred_y = classifier.predict(X[i])\n",
    "        pred_y_class = np.argmax(pred_y,axis=1)\n",
    "        y_np = Y[i].detach().numpy()\n",
    "        acc_test += (pred_y_class==y_np).sum()\n",
    "    acc_test = acc_test/(len(attack_test_set)*len(attack_test_set[0][1]))\n",
    "    return acc_test\n",
    "    "
   ]
  },
  {
   "cell_type": "code",
   "execution_count": 47,
   "id": "5fdb3332",
   "metadata": {},
   "outputs": [
    {
     "name": "stdout",
     "output_type": "stream",
     "text": [
      "Accuracy of model before training in manifold attack is: 7.261666666666667%\n"
     ]
    }
   ],
   "source": [
    "#Check accuracy in test set without training\n",
    "acc_attack_test = measure_accuracy(classifier, x_attack_test_set, y_attack_test_set)\n",
    "print(f\"Accuracy of model before training in manifold attack is: {acc_attack_test*100}%\")"
   ]
  },
  {
   "cell_type": "code",
   "execution_count": 62,
   "id": "eeb7d8af",
   "metadata": {},
   "outputs": [
    {
     "name": "stdout",
     "output_type": "stream",
     "text": [
      "(5625, 32, 1, 28, 28)\n",
      "(60000, 1, 28, 28)\n"
     ]
    }
   ],
   "source": [
    "#Training in manifold attack\n",
    "print(x_attack_set.shape)\n",
    "print(x_train.shape)"
   ]
  }
 ],
 "metadata": {
  "kernelspec": {
   "display_name": "Python 3",
   "language": "python",
   "name": "python3"
  },
  "language_info": {
   "codemirror_mode": {
    "name": "ipython",
    "version": 3
   },
   "file_extension": ".py",
   "mimetype": "text/x-python",
   "name": "python",
   "nbconvert_exporter": "python",
   "pygments_lexer": "ipython3",
   "version": "3.8.8"
  }
 },
 "nbformat": 4,
 "nbformat_minor": 5
}
