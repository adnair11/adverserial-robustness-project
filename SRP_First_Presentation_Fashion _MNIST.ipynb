{
  "nbformat": 4,
  "nbformat_minor": 0,
  "metadata": {
    "colab": {
      "name": "SRP_First_Presentation.ipynb",
      "provenance": [],
      "collapsed_sections": [],
      "authorship_tag": "ABX9TyN4G/CSOHRfAb5vkQ8Jh2hW",
      "include_colab_link": true
    },
    "kernelspec": {
      "name": "python3",
      "display_name": "Python 3"
    },
    "language_info": {
      "name": "python"
    },
    "accelerator": "GPU"
  },
  "cells": [
    {
      "cell_type": "markdown",
      "metadata": {
        "id": "view-in-github",
        "colab_type": "text"
      },
      "source": [
        "<a href=\"https://colab.research.google.com/github/adnair11/adverserial-robustness-project/blob/main/SRP_First_Presentation_Fashion%20_MNIST.ipynb\" target=\"_parent\"><img src=\"https://colab.research.google.com/assets/colab-badge.svg\" alt=\"Open In Colab\"/></a>"
      ]
    },
    {
      "cell_type": "code",
      "execution_count": 2,
      "metadata": {
        "colab": {
          "resources": {
            "http://localhost:8080/nbextensions/google.colab/files.js": {
              "data": "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",
              "ok": true,
              "headers": [
                [
                  "content-type",
                  "application/javascript"
                ]
              ],
              "status": 200,
              "status_text": ""
            }
          },
          "base_uri": "https://localhost:8080/",
          "height": 73
        },
        "id": "37XjyPc_jAQw",
        "outputId": "d3e9b5b1-c004-4c71-c950-93011b52be2a"
      },
      "outputs": [
        {
          "output_type": "display_data",
          "data": {
            "text/plain": [
              "<IPython.core.display.HTML object>"
            ],
            "text/html": [
              "\n",
              "     <input type=\"file\" id=\"files-470f464b-e953-4cb7-a73c-1f3e464c1863\" name=\"files[]\" multiple disabled\n",
              "        style=\"border:none\" />\n",
              "     <output id=\"result-470f464b-e953-4cb7-a73c-1f3e464c1863\">\n",
              "      Upload widget is only available when the cell has been executed in the\n",
              "      current browser session. Please rerun this cell to enable.\n",
              "      </output>\n",
              "      <script src=\"/nbextensions/google.colab/files.js\"></script> "
            ]
          },
          "metadata": {}
        },
        {
          "output_type": "stream",
          "name": "stdout",
          "text": [
            "Saving models.py to models.py\n"
          ]
        }
      ],
      "source": [
        "#upload model file model.py\n",
        "from google.colab import files\n",
        "uploaded = files.upload()"
      ]
    },
    {
      "cell_type": "code",
      "source": [
        "#installing all dependencies\n",
        "!pip install torchattacks\n",
        "!pip install torch==1.7.1 torchvision==0.8.2 \n",
        "!pip install torch-dct\n"
      ],
      "metadata": {
        "colab": {
          "base_uri": "https://localhost:8080/"
        },
        "id": "uEUtOTmum2uz",
        "outputId": "6722ab8d-19da-4837-93ba-e55195271b0d"
      },
      "execution_count": 3,
      "outputs": [
        {
          "output_type": "stream",
          "name": "stdout",
          "text": [
            "Looking in indexes: https://pypi.org/simple, https://us-python.pkg.dev/colab-wheels/public/simple/\n",
            "Collecting torchattacks\n",
            "  Downloading torchattacks-3.2.7-py3-none-any.whl (208 kB)\n",
            "\u001b[K     |████████████████████████████████| 208 kB 30.4 MB/s \n",
            "\u001b[?25hInstalling collected packages: torchattacks\n",
            "Successfully installed torchattacks-3.2.7\n",
            "Looking in indexes: https://pypi.org/simple, https://us-python.pkg.dev/colab-wheels/public/simple/\n",
            "Collecting torch==1.7.1\n",
            "  Downloading torch-1.7.1-cp37-cp37m-manylinux1_x86_64.whl (776.8 MB)\n",
            "\u001b[K     |████████████████████████████████| 776.8 MB 16 kB/s \n",
            "\u001b[?25hCollecting torchvision==0.8.2\n",
            "  Downloading torchvision-0.8.2-cp37-cp37m-manylinux1_x86_64.whl (12.8 MB)\n",
            "\u001b[K     |████████████████████████████████| 12.8 MB 10.3 MB/s \n",
            "\u001b[?25hRequirement already satisfied: numpy in /usr/local/lib/python3.7/dist-packages (from torch==1.7.1) (1.21.6)\n",
            "Requirement already satisfied: typing-extensions in /usr/local/lib/python3.7/dist-packages (from torch==1.7.1) (4.1.1)\n",
            "Requirement already satisfied: pillow>=4.1.1 in /usr/local/lib/python3.7/dist-packages (from torchvision==0.8.2) (7.1.2)\n",
            "Installing collected packages: torch, torchvision\n",
            "  Attempting uninstall: torch\n",
            "    Found existing installation: torch 1.12.0+cu113\n",
            "    Uninstalling torch-1.12.0+cu113:\n",
            "      Successfully uninstalled torch-1.12.0+cu113\n",
            "  Attempting uninstall: torchvision\n",
            "    Found existing installation: torchvision 0.13.0+cu113\n",
            "    Uninstalling torchvision-0.13.0+cu113:\n",
            "      Successfully uninstalled torchvision-0.13.0+cu113\n",
            "\u001b[31mERROR: pip's dependency resolver does not currently take into account all the packages that are installed. This behaviour is the source of the following dependency conflicts.\n",
            "torchtext 0.13.0 requires torch==1.12.0, but you have torch 1.7.1 which is incompatible.\n",
            "torchaudio 0.12.0+cu113 requires torch==1.12.0, but you have torch 1.7.1 which is incompatible.\u001b[0m\n",
            "Successfully installed torch-1.7.1 torchvision-0.8.2\n",
            "Looking in indexes: https://pypi.org/simple, https://us-python.pkg.dev/colab-wheels/public/simple/\n",
            "Collecting torch-dct\n",
            "  Downloading torch_dct-0.1.5-py3-none-any.whl (4.8 kB)\n",
            "Requirement already satisfied: torch>=0.4.1 in /usr/local/lib/python3.7/dist-packages (from torch-dct) (1.7.1)\n",
            "Requirement already satisfied: numpy in /usr/local/lib/python3.7/dist-packages (from torch>=0.4.1->torch-dct) (1.21.6)\n",
            "Requirement already satisfied: typing-extensions in /usr/local/lib/python3.7/dist-packages (from torch>=0.4.1->torch-dct) (4.1.1)\n",
            "Installing collected packages: torch-dct\n",
            "Successfully installed torch-dct-0.1.5\n"
          ]
        }
      ]
    },
    {
      "cell_type": "code",
      "source": [
        "#importing all necessary libraries\n",
        "import torch_dct as dct\n",
        "import matplotlib.pyplot as plt\n",
        "import os\n",
        "import sys\n",
        "import numpy as np\n",
        "import matplotlib.pyplot as plt\n",
        "%matplotlib inline\n",
        "\n",
        "import torch\n",
        "import torch.nn as nn\n",
        "import torch.optim as optim\n",
        "\n",
        "import torchvision.utils\n",
        "from torchvision import models\n",
        "import torchvision.datasets as dsets\n",
        "import torchvision.transforms as transforms\n",
        "\n",
        "import torchattacks\n",
        "from torchattacks import PGD, FGSM\n",
        "from torchattacks import FFGSM\n",
        "\n",
        "from models import CNN\n",
        "import random\n",
        "#random.seed(42)"
      ],
      "metadata": {
        "id": "qygXO943nDkT"
      },
      "execution_count": 18,
      "outputs": []
    },
    {
      "cell_type": "code",
      "source": [
        "#Downloading Fashion MNIST Dataset\n",
        "train_list_transforms = transforms.Compose([\n",
        "        transforms.RandomHorizontalFlip(),\n",
        "        transforms.ToTensor(),\n",
        "        transforms.Normalize((0.1307,), (0.3081,)),\n",
        "    ])\n",
        "\n",
        "transform = transforms.Compose([transforms.ToTensor(),transforms.Normalize((0.5,),(0.5,),)])\n",
        "\n",
        "fashion_mnist_train = dsets.FashionMNIST(root='./data1/',\n",
        "                          train=True,\n",
        "                          transform=train_list_transforms,\n",
        "                          download=True)\n",
        "\n",
        "fashion_mnist_test = dsets.FashionMNIST(root='./data1/',\n",
        "                         train=False,\n",
        "                         transform=train_list_transforms,\n",
        "                         download=True)"
      ],
      "metadata": {
        "id": "JngOUbZyoE5I"
      },
      "execution_count": 27,
      "outputs": []
    },
    {
      "cell_type": "code",
      "source": [
        "#loading the dataset with pytorch loaders\n",
        "batch_size = 128\n",
        "import torch\n",
        "torch.manual_seed(0)\n",
        "\n",
        "train_loader  = torch.utils.data.DataLoader(dataset=fashion_mnist_train,\n",
        "                                           batch_size=batch_size,\n",
        "                                           shuffle=42,num_workers=3,worker_init_fn= lambda id : np.random.seed(id))\n",
        "\n",
        "test_loader = torch.utils.data.DataLoader(dataset=fashion_mnist_test,\n",
        "                                         batch_size=batch_size,\n",
        "                                         shuffle=42,num_workers=3,worker_init_fn= lambda id : np.random.seed(id))"
      ],
      "metadata": {
        "id": "nU1iUYU_oJ8S"
      },
      "execution_count": 28,
      "outputs": []
    },
    {
      "cell_type": "code",
      "source": [
        "#defining model and parameters\n",
        "model = CNN().cuda()\n",
        "model1 = CNN().cuda()\n",
        "model2 = CNN().cuda()\n",
        "loss = nn.CrossEntropyLoss()\n",
        "optimizer = optim.Adam(model.parameters(), lr=0.001)\n",
        "optimizer1 = optim.Adam(model1.parameters(), lr=0.001)\n",
        "optimizer2 = optim.Adam(model2.parameters(), lr=0.001)\n",
        "num_epochs = 10\n",
        "model"
      ],
      "metadata": {
        "colab": {
          "base_uri": "https://localhost:8080/"
        },
        "id": "NroykEi1oPEZ",
        "outputId": "f73b6549-dcdc-40f2-dce8-2a69ced75c65"
      },
      "execution_count": 29,
      "outputs": [
        {
          "output_type": "execute_result",
          "data": {
            "text/plain": [
              "CNN(\n",
              "  (layer): Sequential(\n",
              "    (0): Conv2d(1, 16, kernel_size=(5, 5), stride=(1, 1))\n",
              "    (1): ReLU()\n",
              "    (2): Conv2d(16, 32, kernel_size=(5, 5), stride=(1, 1))\n",
              "    (3): ReLU()\n",
              "    (4): MaxPool2d(kernel_size=2, stride=2, padding=0, dilation=1, ceil_mode=False)\n",
              "    (5): Conv2d(32, 64, kernel_size=(5, 5), stride=(1, 1))\n",
              "    (6): ReLU()\n",
              "    (7): MaxPool2d(kernel_size=2, stride=2, padding=0, dilation=1, ceil_mode=False)\n",
              "  )\n",
              "  (fc_layer): Sequential(\n",
              "    (0): Linear(in_features=576, out_features=100, bias=True)\n",
              "    (1): ReLU()\n",
              "    (2): Linear(in_features=100, out_features=10, bias=True)\n",
              "  )\n",
              ")"
            ]
          },
          "metadata": {},
          "execution_count": 29
        }
      ]
    },
    {
      "cell_type": "code",
      "source": [
        "#standard test function showing accuarcy (no attack)\n",
        "def standard_test(model):\n",
        "      model.eval()\n",
        "\n",
        "      correct = 0\n",
        "      total = 0\n",
        "\n",
        "      for images, labels in test_loader:\n",
        "          \n",
        "          images = images.cuda()\n",
        "          outputs = model(images)\n",
        "          \n",
        "          _, predicted = torch.max(outputs.data, 1)\n",
        "          \n",
        "          total += labels.size(0)\n",
        "          correct += (predicted == labels.cuda()).sum()\n",
        "          \n",
        "      print('Standard accuracy: %.2f %%' % (100 * float(correct) / total))"
      ],
      "metadata": {
        "id": "F4H1vuZR3WnT"
      },
      "execution_count": 22,
      "outputs": []
    },
    {
      "cell_type": "code",
      "source": [
        "#modified test function with 3 attacks and toggle between Pixel and DCT representation.Default is Pixel\n",
        "\n",
        "def test_attack(model,test_loader,attack=\"FGSM\",dct_test=False):\n",
        "          model.eval()\n",
        "\n",
        "          correct = 0\n",
        "          total = 0\n",
        "          if (attack==\"FGSM\") :\n",
        "            atk = FGSM(model, eps=0.3)\n",
        "          if (attack==\"PGD\") :\n",
        "            atk = PGD(model, eps=0.3)\n",
        "          if (attack==\"FFGSM\") :\n",
        "            atk = FFGSM(model, eps=0.3)\n",
        "          \n",
        "\n",
        "          for images, labels in test_loader:\n",
        "              \n",
        "              if(dct_test==False):\n",
        "                images = atk(images, labels).cuda()\n",
        "              else:\n",
        "                img =dct.dct1(images)\n",
        "                images = atk(img, labels).cuda()\n",
        "                images=dct.idct(images)\n",
        "\n",
        "              \n",
        "              outputs = model(images)\n",
        "              \n",
        "              _, predicted = torch.max(outputs.data, 1)\n",
        "              \n",
        "              total += labels.size(0)\n",
        "              correct += (predicted == labels.cuda()).sum()\n",
        "          print(\"TEST with\",attack,\"on Fashion MNIST\")  \n",
        "          print('Robust accuracy : %.2f %%' % (100 * float(correct) / total))"
      ],
      "metadata": {
        "id": "Ryt6Jy2j2hkq"
      },
      "execution_count": 23,
      "outputs": []
    },
    {
      "cell_type": "code",
      "source": [
        "#modified test function with 3 attacks and toggle between Pixel and DCT representation.Default is Pixel\n",
        "#can also vary the percentage of adversarial examples .Default = 1 (100% attack)\n",
        "\n",
        "def test_attack_percentage(model,test_loader,attack=\"FGSM\",dct_test=False,percentage = 1):\n",
        "          model.eval()\n",
        "\n",
        "          correct = 0\n",
        "          total = 0\n",
        "          if (attack==\"FGSM\") :\n",
        "            atk = FGSM(model, eps=0.3)\n",
        "          if (attack==\"PGD\") :\n",
        "            atk = PGD(model, eps=0.3)\n",
        "          if (attack==\"FFGSM\") :\n",
        "            atk = FFGSM(model, eps=0.3)\n",
        "          \n",
        "          counter = 0\n",
        "      \n",
        "\n",
        "          for images, labels in test_loader:\n",
        "\n",
        "              images, labels = images.cuda(), labels.cuda()\n",
        "              \n",
        "              if(counter < int(len(test_loader)*percentage)):    #int(len(test_loader))):\n",
        "\n",
        "                if(dct_test==False):\n",
        "                  images = atk(images, labels).cuda()\n",
        "                else:\n",
        "                  img =dct.dct1(images)\n",
        "                  images = atk(img, labels).cuda()\n",
        "                  images=dct.idct(images)\n",
        "                \n",
        "                outputs = model(images)\n",
        "                _, predicted = torch.max(outputs.data, 1)\n",
        "                  \n",
        "                total += labels.size(0)\n",
        "                correct += (predicted == labels.cuda()).sum()\n",
        "\n",
        "                counter +=1\n",
        "              else:\n",
        "\n",
        "                outputs = model(images)\n",
        "                _, predicted = torch.max(outputs.data, 1)\n",
        "                  \n",
        "                total += labels.size(0)\n",
        "                correct += (predicted == labels.cuda()).sum()\n",
        "      \n",
        "\n",
        "          print(\"TEST with\",attack,\"on Fashion MNIST\")  \n",
        "          print('Robust accuracy : %.2f %%' % (100 * float(correct) / total))\n",
        "          print(len(test_loader))\n",
        "          print(counter)"
      ],
      "metadata": {
        "id": "q_cdWIeShkPb"
      },
      "execution_count": 24,
      "outputs": []
    },
    {
      "cell_type": "code",
      "source": [
        "#train function with PGD attack and toggle between DCT and Pixel representation .Default is Pixel\n",
        "\n",
        "def pgd_train(model,train_loader,optimizer,loss,dct_train=False,num_epochs=5):\n",
        "    model.train()\n",
        "    atk = PGD(model, eps=0.3, alpha=0.1, steps=7)\n",
        "    print(type(atk))\n",
        "    for epoch in range(num_epochs):\n",
        "\n",
        "        total_batch = len(fashion_mnist_train) // batch_size\n",
        "        \n",
        "        for i, (batch_images, batch_labels) in enumerate(train_loader):\n",
        "\n",
        "           \n",
        "            Y = batch_labels.cuda()\n",
        "\n",
        "            if(dct_train==True):\n",
        "              dct1 = dct.dct1(batch_images)\n",
        "              X = atk(dct1, batch_labels).cuda()\n",
        "              X=dct.idct(X)\n",
        "            else:\n",
        "              X = atk(batch_images, batch_labels).cuda()\n",
        "\n",
        "            pre = model(X)\n",
        "            cost = loss(pre, Y)\n",
        "\n",
        "            optimizer.zero_grad()\n",
        "            cost.backward()\n",
        "            optimizer.step()\n",
        "\n",
        "            if (i+1) % 100 == 0:\n",
        "                print('Epoch [%d/%d], lter [%d/%d], Loss: %.4f'\n",
        "                    %(epoch+1, num_epochs, i+1, total_batch, cost.item()))\n",
        "    return cost"
      ],
      "metadata": {
        "id": "o4zxhXzypwY3"
      },
      "execution_count": 25,
      "outputs": []
    },
    {
      "cell_type": "code",
      "source": [
        "#standard training with 0% adversarial examples\n",
        "def standard_train(model,train_loader,optimizer,loss,num_epochs=5):\n",
        "  model.train()\n",
        "  for epoch in range(num_epochs):\n",
        "\n",
        "      total_batch = len(fashion_mnist_train) // batch_size\n",
        "      \n",
        "      for i, (batch_images, batch_labels) in enumerate(train_loader):\n",
        "          X = batch_images.cuda()\n",
        "          Y = batch_labels.cuda()\n",
        "\n",
        "          pre = model(X)\n",
        "          cost = loss(pre, Y)\n",
        "\n",
        "          optimizer.zero_grad()\n",
        "          cost.backward()\n",
        "          optimizer.step()\n",
        "\n",
        "          if (i+1) % 100 == 0:\n",
        "              print('Epoch [%d/%d], lter [%d/%d], Loss: %.4f'\n",
        "                  %(epoch+1, num_epochs, i+1, total_batch, cost.item()))\n",
        "\n",
        "cost0=standard_train(model,train_loader,optimizer,loss)\n",
        "standard_test(model)"
      ],
      "metadata": {
        "colab": {
          "base_uri": "https://localhost:8080/"
        },
        "id": "6RD4u0Uh2nzT",
        "outputId": "217158c4-eccf-48c5-dc20-f6fcd23cd6ed"
      },
      "execution_count": 30,
      "outputs": [
        {
          "output_type": "stream",
          "name": "stdout",
          "text": [
            "Epoch [1/5], lter [100/468], Loss: 0.7763\n",
            "Epoch [1/5], lter [200/468], Loss: 0.5712\n",
            "Epoch [1/5], lter [300/468], Loss: 0.4841\n",
            "Epoch [1/5], lter [400/468], Loss: 0.4825\n",
            "Epoch [2/5], lter [100/468], Loss: 0.4182\n",
            "Epoch [2/5], lter [200/468], Loss: 0.3792\n",
            "Epoch [2/5], lter [300/468], Loss: 0.2723\n",
            "Epoch [2/5], lter [400/468], Loss: 0.3267\n",
            "Epoch [3/5], lter [100/468], Loss: 0.3561\n",
            "Epoch [3/5], lter [200/468], Loss: 0.2685\n",
            "Epoch [3/5], lter [300/468], Loss: 0.1833\n",
            "Epoch [3/5], lter [400/468], Loss: 0.3614\n",
            "Epoch [4/5], lter [100/468], Loss: 0.3166\n",
            "Epoch [4/5], lter [200/468], Loss: 0.4844\n",
            "Epoch [4/5], lter [300/468], Loss: 0.2281\n",
            "Epoch [4/5], lter [400/468], Loss: 0.1845\n",
            "Epoch [5/5], lter [100/468], Loss: 0.1737\n",
            "Epoch [5/5], lter [200/468], Loss: 0.1656\n",
            "Epoch [5/5], lter [300/468], Loss: 0.2077\n",
            "Epoch [5/5], lter [400/468], Loss: 0.1391\n",
            "Standard accuracy: 90.02 %\n"
          ]
        }
      ]
    },
    {
      "cell_type": "code",
      "source": [
        "test_attack(model,test_loader,\"FGSM\")\n",
        "test_attack(model,test_loader,\"PGD\")\n",
        "test_attack(model,test_loader,\"FFGSM\")"
      ],
      "metadata": {
        "colab": {
          "base_uri": "https://localhost:8080/"
        },
        "id": "RgucA2WucLtc",
        "outputId": "a64d15b9-515e-446c-c5cc-52624be1ffc4"
      },
      "execution_count": 31,
      "outputs": [
        {
          "output_type": "stream",
          "name": "stdout",
          "text": [
            "TEST with FGSM on Fashion MNIST\n",
            "Robust accuracy : 42.18 %\n",
            "TEST with PGD on Fashion MNIST\n",
            "Robust accuracy : 35.50 %\n",
            "TEST with FFGSM on Fashion MNIST\n",
            "Robust accuracy : 52.27 %\n"
          ]
        }
      ]
    },
    {
      "cell_type": "code",
      "source": [
        "#Initial training in Pixel representation\n",
        "cost1=pgd_train(model1,train_loader,optimizer1,loss,num_epochs=10)\n",
        "cost1"
      ],
      "metadata": {
        "colab": {
          "base_uri": "https://localhost:8080/"
        },
        "id": "5vR6r0sEqxYE",
        "outputId": "8fc3485a-6fd3-4c3c-dd67-ddecf3c37e81"
      },
      "execution_count": 32,
      "outputs": [
        {
          "output_type": "stream",
          "name": "stdout",
          "text": [
            "<class 'torchattacks.attacks.pgd.PGD'>\n",
            "Epoch [1/10], lter [100/468], Loss: 0.9522\n",
            "Epoch [1/10], lter [200/468], Loss: 0.8671\n",
            "Epoch [1/10], lter [300/468], Loss: 0.9051\n",
            "Epoch [1/10], lter [400/468], Loss: 0.6880\n",
            "Epoch [2/10], lter [100/468], Loss: 0.7916\n",
            "Epoch [2/10], lter [200/468], Loss: 0.8382\n",
            "Epoch [2/10], lter [300/468], Loss: 0.7636\n",
            "Epoch [2/10], lter [400/468], Loss: 0.6803\n",
            "Epoch [3/10], lter [100/468], Loss: 0.7395\n",
            "Epoch [3/10], lter [200/468], Loss: 0.7051\n",
            "Epoch [3/10], lter [300/468], Loss: 0.7971\n",
            "Epoch [3/10], lter [400/468], Loss: 0.7240\n",
            "Epoch [4/10], lter [100/468], Loss: 0.5753\n",
            "Epoch [4/10], lter [200/468], Loss: 0.6346\n",
            "Epoch [4/10], lter [300/468], Loss: 0.5793\n",
            "Epoch [4/10], lter [400/468], Loss: 0.5913\n",
            "Epoch [5/10], lter [100/468], Loss: 0.5955\n",
            "Epoch [5/10], lter [200/468], Loss: 0.6686\n",
            "Epoch [5/10], lter [300/468], Loss: 0.5839\n",
            "Epoch [5/10], lter [400/468], Loss: 0.5842\n",
            "Epoch [6/10], lter [100/468], Loss: 0.6928\n",
            "Epoch [6/10], lter [200/468], Loss: 0.6961\n",
            "Epoch [6/10], lter [300/468], Loss: 0.6180\n",
            "Epoch [6/10], lter [400/468], Loss: 0.4508\n",
            "Epoch [7/10], lter [100/468], Loss: 0.6225\n",
            "Epoch [7/10], lter [200/468], Loss: 0.6029\n",
            "Epoch [7/10], lter [300/468], Loss: 0.6527\n",
            "Epoch [7/10], lter [400/468], Loss: 0.6141\n",
            "Epoch [8/10], lter [100/468], Loss: 0.5542\n",
            "Epoch [8/10], lter [200/468], Loss: 0.5437\n",
            "Epoch [8/10], lter [300/468], Loss: 0.6223\n",
            "Epoch [8/10], lter [400/468], Loss: 0.6203\n",
            "Epoch [9/10], lter [100/468], Loss: 0.7525\n",
            "Epoch [9/10], lter [200/468], Loss: 0.6758\n",
            "Epoch [9/10], lter [300/468], Loss: 0.5732\n",
            "Epoch [9/10], lter [400/468], Loss: 0.6289\n",
            "Epoch [10/10], lter [100/468], Loss: 0.6424\n",
            "Epoch [10/10], lter [200/468], Loss: 0.6045\n",
            "Epoch [10/10], lter [300/468], Loss: 0.6428\n",
            "Epoch [10/10], lter [400/468], Loss: 0.5397\n"
          ]
        },
        {
          "output_type": "execute_result",
          "data": {
            "text/plain": [
              "tensor(0.7401, device='cuda:0', grad_fn=<NllLossBackward>)"
            ]
          },
          "metadata": {},
          "execution_count": 32
        }
      ]
    },
    {
      "cell_type": "code",
      "source": [
        "#test accuracy without any attacks\n",
        "standard_test(model1)"
      ],
      "metadata": {
        "colab": {
          "base_uri": "https://localhost:8080/"
        },
        "id": "UmKTdpAqxiHt",
        "outputId": "3d1be207-d756-4aed-fd55-73a8e2ae3455"
      },
      "execution_count": 33,
      "outputs": [
        {
          "output_type": "stream",
          "name": "stdout",
          "text": [
            "Standard accuracy: 78.36 %\n"
          ]
        }
      ]
    },
    {
      "cell_type": "code",
      "source": [
        "#robustness accuracy after 3 adverserial attacks\n",
        "\n",
        "test_attack(model1,test_loader,\"FGSM\")\n",
        "test_attack(model1,test_loader,\"PGD\")\n",
        "test_attack(model1,test_loader,\"FFGSM\")"
      ],
      "metadata": {
        "colab": {
          "base_uri": "https://localhost:8080/"
        },
        "id": "rwsaB0EV13E0",
        "outputId": "019fcc14-62e5-4c5d-8c8a-50547e86adc8"
      },
      "execution_count": 34,
      "outputs": [
        {
          "output_type": "stream",
          "name": "stdout",
          "text": [
            "TEST with FGSM on Fashion MNIST\n",
            "Robust accuracy : 79.02 %\n",
            "TEST with PGD on Fashion MNIST\n",
            "Robust accuracy : 76.82 %\n",
            "TEST with FFGSM on Fashion MNIST\n",
            "Robust accuracy : 83.19 %\n"
          ]
        }
      ]
    },
    {
      "cell_type": "code",
      "source": [
        "\n",
        "test_attack(model1,test_loader,\"PGD\",True)\n",
        "test_attack(model1,test_loader,\"FFGSM\",True)"
      ],
      "metadata": {
        "colab": {
          "base_uri": "https://localhost:8080/"
        },
        "id": "QtI_6bfKl8N-",
        "outputId": "13450519-e435-4b66-f369-6ef7da162c14"
      },
      "execution_count": 35,
      "outputs": [
        {
          "output_type": "stream",
          "name": "stderr",
          "text": [
            "/usr/local/lib/python3.7/dist-packages/torch_dct/_dct.py:15: UserWarning: The function torch.rfft is deprecated and will be removed in a future PyTorch release. Use the new torch.fft module functions, instead, by importing torch.fft and calling torch.fft.fft or torch.fft.rfft. (Triggered internally at  /pytorch/aten/src/ATen/native/SpectralOps.cpp:590.)\n",
            "  return torch.rfft(torch.cat([x, x.flip([1])[:, 1:-1]], dim=1), 1)[:, :, 0].view(*x_shape)\n",
            "/usr/local/lib/python3.7/dist-packages/torch_dct/_dct.py:100: UserWarning: The function torch.irfft is deprecated and will be removed in a future PyTorch release. Use the new torch.fft module functions, instead, by importing torch.fft and calling torch.fft.ifft or torch.fft.irfft. (Triggered internally at  /pytorch/aten/src/ATen/native/SpectralOps.cpp:602.)\n",
            "  v = torch.irfft(V, 1, onesided=False)\n"
          ]
        },
        {
          "output_type": "stream",
          "name": "stdout",
          "text": [
            "TEST with PGD on Fashion MNIST\n",
            "Robust accuracy : 40.54 %\n",
            "TEST with FFGSM on Fashion MNIST\n",
            "Robust accuracy : 40.66 %\n"
          ]
        }
      ]
    },
    {
      "cell_type": "code",
      "source": [
        "test_attack_percentage(model1,test_loader,attack=\"PGD\",dct_test=False,percentage = .5)\n",
        "test_attack_percentage(model1,test_loader,attack=\"FGSM\",dct_test=False,percentage = .5)\n",
        "test_attack_percentage(model1,test_loader,attack=\"FFGSM\",dct_test=False,percentage = .5)"
      ],
      "metadata": {
        "colab": {
          "base_uri": "https://localhost:8080/"
        },
        "id": "A7sJVwkykElB",
        "outputId": "dfdadf2d-7352-4e5c-e3e7-dc5be20d5f19"
      },
      "execution_count": 36,
      "outputs": [
        {
          "output_type": "stream",
          "name": "stdout",
          "text": [
            "TEST with PGD on Fashion MNIST\n",
            "Robust accuracy : 77.70 %\n",
            "79\n",
            "39\n",
            "TEST with FGSM on Fashion MNIST\n",
            "Robust accuracy : 78.67 %\n",
            "79\n",
            "39\n",
            "TEST with FFGSM on Fashion MNIST\n",
            "Robust accuracy : 80.74 %\n",
            "79\n",
            "39\n"
          ]
        }
      ]
    },
    {
      "cell_type": "code",
      "source": [
        "#retraining in PGD attack with DCT basis representation\n",
        "\n",
        "cost2=pgd_train(model1,train_loader,optimizer1,loss,dct_train=True)\n",
        "cost2"
      ],
      "metadata": {
        "colab": {
          "base_uri": "https://localhost:8080/"
        },
        "id": "BsX5KJYLsnIK",
        "outputId": "01582a97-5d57-47e0-ba4d-c5cba1797c79"
      },
      "execution_count": 37,
      "outputs": [
        {
          "output_type": "stream",
          "name": "stdout",
          "text": [
            "<class 'torchattacks.attacks.pgd.PGD'>\n",
            "Epoch [1/5], lter [100/468], Loss: 0.5285\n",
            "Epoch [1/5], lter [200/468], Loss: 0.3660\n",
            "Epoch [1/5], lter [300/468], Loss: 0.3968\n",
            "Epoch [1/5], lter [400/468], Loss: 0.5297\n",
            "Epoch [2/5], lter [100/468], Loss: 0.3280\n",
            "Epoch [2/5], lter [200/468], Loss: 0.5533\n",
            "Epoch [2/5], lter [300/468], Loss: 0.2604\n",
            "Epoch [2/5], lter [400/468], Loss: 0.3995\n",
            "Epoch [3/5], lter [100/468], Loss: 0.3602\n",
            "Epoch [3/5], lter [200/468], Loss: 0.3366\n",
            "Epoch [3/5], lter [300/468], Loss: 0.4130\n",
            "Epoch [3/5], lter [400/468], Loss: 0.3907\n",
            "Epoch [4/5], lter [100/468], Loss: 0.3194\n",
            "Epoch [4/5], lter [200/468], Loss: 0.5798\n",
            "Epoch [4/5], lter [300/468], Loss: 0.4197\n",
            "Epoch [4/5], lter [400/468], Loss: 0.3696\n",
            "Epoch [5/5], lter [100/468], Loss: 0.1963\n",
            "Epoch [5/5], lter [200/468], Loss: 0.3790\n",
            "Epoch [5/5], lter [300/468], Loss: 0.3591\n",
            "Epoch [5/5], lter [400/468], Loss: 0.3165\n"
          ]
        },
        {
          "output_type": "execute_result",
          "data": {
            "text/plain": [
              "tensor(0.2552, device='cuda:0', grad_fn=<NllLossBackward>)"
            ]
          },
          "metadata": {},
          "execution_count": 37
        }
      ]
    },
    {
      "cell_type": "code",
      "source": [
        "#@title\n",
        "#testing robustness after attacking in DCT representation \n",
        "\n",
        "test_attack(model1,test_loader,\"FGSM\",True)\n",
        "test_attack(model1,test_loader,\"PGD\",True)\n",
        "test_attack(model1,test_loader,\"FFGSM\",True)"
      ],
      "metadata": {
        "colab": {
          "base_uri": "https://localhost:8080/"
        },
        "id": "HOM6mASL0Kso",
        "outputId": "464f6247-0ba7-40c7-815d-0647b44c267e"
      },
      "execution_count": 38,
      "outputs": [
        {
          "output_type": "stream",
          "name": "stdout",
          "text": [
            "TEST with FGSM on Fashion MNIST\n",
            "Robust accuracy : 86.58 %\n",
            "TEST with PGD on Fashion MNIST\n",
            "Robust accuracy : 86.96 %\n",
            "TEST with FFGSM on Fashion MNIST\n",
            "Robust accuracy : 86.58 %\n"
          ]
        }
      ]
    },
    {
      "cell_type": "code",
      "source": [
        "\n",
        "test_attack(model1,test_loader,\"FGSM\",False)\n",
        "test_attack(model1,test_loader,\"PGD\",False)\n",
        "test_attack(model1,test_loader,\"FFGSM\",False)"
      ],
      "metadata": {
        "colab": {
          "base_uri": "https://localhost:8080/"
        },
        "id": "Yx1tHT-jllXq",
        "outputId": "66a0f026-2fd0-45a5-f051-978e510e4c28"
      },
      "execution_count": 39,
      "outputs": [
        {
          "output_type": "stream",
          "name": "stdout",
          "text": [
            "TEST with FGSM on Fashion MNIST\n",
            "Robust accuracy : 55.36 %\n",
            "TEST with PGD on Fashion MNIST\n",
            "Robust accuracy : 46.51 %\n",
            "TEST with FFGSM on Fashion MNIST\n",
            "Robust accuracy : 58.42 %\n"
          ]
        }
      ]
    },
    {
      "cell_type": "code",
      "source": [
        "#Loss when converting from Pixel to DCT\n",
        "\n",
        "examples = enumerate(test_loader)\n",
        "batch_idx, (example_data, example_targets) = next(examples)\n"
      ],
      "metadata": {
        "id": "lMzvul6BtNcp"
      },
      "execution_count": 40,
      "outputs": []
    },
    {
      "cell_type": "code",
      "source": [
        "#Pixel representation\n",
        "import matplotlib.pyplot as plt\n",
        "\n",
        "fig = plt.figure()\n",
        "\n",
        "plt.imshow(example_data[0][0], cmap='gray', interpolation='none')\n",
        "\n",
        "\n",
        "\n"
      ],
      "metadata": {
        "colab": {
          "base_uri": "https://localhost:8080/",
          "height": 282
        },
        "id": "8T3NHBW5tc3h",
        "outputId": "3025d412-b808-40ef-d7ed-980d7d222ac1"
      },
      "execution_count": null,
      "outputs": [
        {
          "output_type": "execute_result",
          "data": {
            "text/plain": [
              "<matplotlib.image.AxesImage at 0x7fbd109ba090>"
            ]
          },
          "metadata": {},
          "execution_count": 22
        },
        {
          "output_type": "display_data",
          "data": {
            "text/plain": [
              "<Figure size 432x288 with 1 Axes>"
            ],
            "image/png": "[encoded data removed]"
          },
          "metadata": {
            "needs_background": "light"
          }
        }
      ]
    },
    {
      "cell_type": "code",
      "source": [
        "#DCT representation\n",
        "\n",
        "fig1 = plt.figure()\n",
        "\n",
        "plt.imshow(dct.idct(dct.dct(example_data[0][0])), cmap='gray', interpolation='none')\n",
        "\n"
      ],
      "metadata": {
        "colab": {
          "base_uri": "https://localhost:8080/",
          "height": 282
        },
        "id": "oz3caxa3vNiT",
        "outputId": "ea52061c-a588-4f48-ee57-ccd3cf65c427"
      },
      "execution_count": null,
      "outputs": [
        {
          "output_type": "execute_result",
          "data": {
            "text/plain": [
              "<matplotlib.image.AxesImage at 0x7fbd10863190>"
            ]
          },
          "metadata": {},
          "execution_count": 27
        },
        {
          "output_type": "display_data",
          "data": {
            "text/plain": [
              "<Figure size 432x288 with 1 Axes>"
            ],
            "image/png": "[encoded data removed]"
          },
          "metadata": {
            "needs_background": "light"
          }
        }
      ]
    },
    {
      "cell_type": "code",
      "source": [
        "#MSE LOSS between the two tensors\n",
        "input = example_data\n",
        "target = dct.idct(dct.dct(example_data))\n",
        "mse_loss = nn.MSELoss()\n",
        "output = mse_loss(input, target)\n",
        "\n",
        "\n",
        "#print('input: ', input)\n",
        "#print('target: ', target)\n",
        "print('output: ', output)"
      ],
      "metadata": {
        "colab": {
          "base_uri": "https://localhost:8080/"
        },
        "id": "SxCRZ_1Bvu7X",
        "outputId": "1bc1ef89-e6c4-42f1-f2e1-17e91d666543"
      },
      "execution_count": null,
      "outputs": [
        {
          "output_type": "stream",
          "name": "stdout",
          "text": [
            "output:  tensor(2.4476e-15)\n"
          ]
        }
      ]
    },
    {
      "cell_type": "code",
      "source": [
        ""
      ],
      "metadata": {
        "id": "wUaKme8LuQ3N"
      },
      "execution_count": null,
      "outputs": []
    }
  ]
}